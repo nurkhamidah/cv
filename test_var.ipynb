{
 "cells": [
  {
   "cell_type": "code",
   "execution_count": 86,
   "metadata": {},
   "outputs": [],
   "source": [
    "from data import *"
   ]
  },
  {
   "cell_type": "code",
   "execution_count": 143,
   "metadata": {},
   "outputs": [],
   "source": [
    "import pandas as pd\n",
    "experience = pd.read_excel('data/Tableau CV-2.xlsx', sheet_name='EXPERIENCE')\n",
    "skill = pd.read_excel('data/Tableau CV-2.xlsx', sheet_name='SKILL')\n",
    "language = pd.read_excel('data/Tableau CV-2.xlsx', sheet_name='LANGUAGES')\n",
    "certification = pd.read_excel('data/Tableau CV-2.xlsx', sheet_name='CERTIFICATION')\n",
    "portfolio = pd.read_excel('data/Tableau CV-2.xlsx', sheet_name='PORTFOLIO')"
   ]
  },
  {
   "cell_type": "code",
   "execution_count": 135,
   "metadata": {},
   "outputs": [],
   "source": [
    "import re\n",
    "def stringSplit(strs):\n",
    "    return(re.split(\",\", strs))"
   ]
  },
  {
   "cell_type": "code",
   "execution_count": 136,
   "metadata": {},
   "outputs": [],
   "source": [
    "def getMonthYear(df, col):\n",
    "    df[col+'_MY'] = pd.to_datetime(df[col]).dt.strftime('%m-%Y')\n",
    "    return df"
   ]
  },
  {
   "cell_type": "code",
   "execution_count": 25,
   "metadata": {},
   "outputs": [
    {
     "data": {
      "text/html": [
       "<div>\n",
       "<style scoped>\n",
       "    .dataframe tbody tr th:only-of-type {\n",
       "        vertical-align: middle;\n",
       "    }\n",
       "\n",
       "    .dataframe tbody tr th {\n",
       "        vertical-align: top;\n",
       "    }\n",
       "\n",
       "    .dataframe thead th {\n",
       "        text-align: right;\n",
       "    }\n",
       "</style>\n",
       "<table border=\"1\" class=\"dataframe\">\n",
       "  <thead>\n",
       "    <tr style=\"text-align: right;\">\n",
       "      <th></th>\n",
       "      <th>Order</th>\n",
       "      <th>Type</th>\n",
       "      <th>Organization</th>\n",
       "      <th>Position</th>\n",
       "      <th>Start</th>\n",
       "      <th>End</th>\n",
       "      <th>Duration (Year)</th>\n",
       "      <th>City</th>\n",
       "      <th>State</th>\n",
       "      <th>Association</th>\n",
       "      <th>Description</th>\n",
       "      <th>Tools</th>\n",
       "      <th>Hard Skill</th>\n",
       "      <th>Soft Skill</th>\n",
       "      <th>Category</th>\n",
       "    </tr>\n",
       "  </thead>\n",
       "  <tbody>\n",
       "    <tr>\n",
       "      <th>0</th>\n",
       "      <td>1</td>\n",
       "      <td>Education</td>\n",
       "      <td>University of Brawijaya</td>\n",
       "      <td>Student</td>\n",
       "      <td>2017-08-19</td>\n",
       "      <td>2021-04-08</td>\n",
       "      <td>3.583333</td>\n",
       "      <td>Malang</td>\n",
       "      <td>Indonesia</td>\n",
       "      <td>[-]</td>\n",
       "      <td>Bachelor Degree with GPA 3.91.\\nActivities and...</td>\n",
       "      <td>[Microsoft Office,  R,  Python,  Windows Opera...</td>\n",
       "      <td>[Programming,  Statistical Analysis,  Survey, ...</td>\n",
       "      <td>[Team Work,  Time Management,  Communication]</td>\n",
       "      <td>Related to Job</td>\n",
       "    </tr>\n",
       "    <tr>\n",
       "      <th>1</th>\n",
       "      <td>2</td>\n",
       "      <td>Work</td>\n",
       "      <td>KKU-PSBM FMIPA University of Brawijaya</td>\n",
       "      <td>Team Associate</td>\n",
       "      <td>2019-11-20</td>\n",
       "      <td>2020-10-31</td>\n",
       "      <td>0.916667</td>\n",
       "      <td>Malang</td>\n",
       "      <td>Indonesia</td>\n",
       "      <td>[University of Brawijaya]</td>\n",
       "      <td>KKU-PSBM (Kelompok Kajian Unggulan: Pemodelan ...</td>\n",
       "      <td>[Microsoft Office,  R,  SPSS,  Minitab]</td>\n",
       "      <td>[Survey,  Data Analysis,  Questionnaire Making...</td>\n",
       "      <td>[Team Work,  Time Management,  Communication, ...</td>\n",
       "      <td>Related to Job</td>\n",
       "    </tr>\n",
       "    <tr>\n",
       "      <th>2</th>\n",
       "      <td>3</td>\n",
       "      <td>Work</td>\n",
       "      <td>PT Utama Abadi Sejahtera</td>\n",
       "      <td>Support Staff</td>\n",
       "      <td>2020-10-01</td>\n",
       "      <td>2021-07-31</td>\n",
       "      <td>0.750000</td>\n",
       "      <td>Malang</td>\n",
       "      <td>Indonesia</td>\n",
       "      <td>[University of Brawijaya]</td>\n",
       "      <td>PT Utama Abadi Sejahtera has been engaged in r...</td>\n",
       "      <td>[Microsoft Office,  R,  SPSS,  Minitab]</td>\n",
       "      <td>[Survey,  Data Analysis,  Questionnaire Making...</td>\n",
       "      <td>[Team Work,  Time Management,  Communication, ...</td>\n",
       "      <td>Related to Job</td>\n",
       "    </tr>\n",
       "    <tr>\n",
       "      <th>3</th>\n",
       "      <td>4</td>\n",
       "      <td>Work</td>\n",
       "      <td>Sinarmas Mining</td>\n",
       "      <td>IT Trainee</td>\n",
       "      <td>2021-10-01</td>\n",
       "      <td>2022-03-04</td>\n",
       "      <td>0.416667</td>\n",
       "      <td>Jakarta</td>\n",
       "      <td>Indonesia</td>\n",
       "      <td>[-]</td>\n",
       "      <td>Trained to handle some projects related to IT ...</td>\n",
       "      <td>[Linux Operating System,  Go,  JavaScript,  Re...</td>\n",
       "      <td>[Programming,  Database Administration]</td>\n",
       "      <td>[Team Work,  Time Management,  Multitasking,  ...</td>\n",
       "      <td>Related to Job</td>\n",
       "    </tr>\n",
       "    <tr>\n",
       "      <th>4</th>\n",
       "      <td>5</td>\n",
       "      <td>Education</td>\n",
       "      <td>Indonesia Endowment Fund for Education Agency</td>\n",
       "      <td>Awardee</td>\n",
       "      <td>2022-05-11</td>\n",
       "      <td>2024-08-16</td>\n",
       "      <td>2.250000</td>\n",
       "      <td>Jakarta</td>\n",
       "      <td>Indonesia</td>\n",
       "      <td>[Bogor Agricultural (IPB) University,  Ministr...</td>\n",
       "      <td>LPDP is committed to preparing Indonesian futu...</td>\n",
       "      <td>[-]</td>\n",
       "      <td>[-]</td>\n",
       "      <td>[Public Speaking,  Communication,  Team Work]</td>\n",
       "      <td>Unrelated to Job</td>\n",
       "    </tr>\n",
       "  </tbody>\n",
       "</table>\n",
       "</div>"
      ],
      "text/plain": [
       "   Order       Type                                   Organization  \\\n",
       "0      1  Education                        University of Brawijaya   \n",
       "1      2       Work         KKU-PSBM FMIPA University of Brawijaya   \n",
       "2      3       Work                       PT Utama Abadi Sejahtera   \n",
       "3      4       Work                                Sinarmas Mining   \n",
       "4      5  Education  Indonesia Endowment Fund for Education Agency   \n",
       "\n",
       "         Position      Start        End  Duration (Year)    City       State  \\\n",
       "0         Student 2017-08-19 2021-04-08         3.583333   Malang  Indonesia   \n",
       "1  Team Associate 2019-11-20 2020-10-31         0.916667   Malang  Indonesia   \n",
       "2   Support Staff 2020-10-01 2021-07-31         0.750000   Malang  Indonesia   \n",
       "3     IT Trainee  2021-10-01 2022-03-04         0.416667  Jakarta  Indonesia   \n",
       "4         Awardee 2022-05-11 2024-08-16         2.250000  Jakarta  Indonesia   \n",
       "\n",
       "                                         Association  \\\n",
       "0                                                [-]   \n",
       "1                          [University of Brawijaya]   \n",
       "2                          [University of Brawijaya]   \n",
       "3                                                [-]   \n",
       "4  [Bogor Agricultural (IPB) University,  Ministr...   \n",
       "\n",
       "                                         Description  \\\n",
       "0  Bachelor Degree with GPA 3.91.\\nActivities and...   \n",
       "1  KKU-PSBM (Kelompok Kajian Unggulan: Pemodelan ...   \n",
       "2  PT Utama Abadi Sejahtera has been engaged in r...   \n",
       "3  Trained to handle some projects related to IT ...   \n",
       "4  LPDP is committed to preparing Indonesian futu...   \n",
       "\n",
       "                                               Tools  \\\n",
       "0  [Microsoft Office,  R,  Python,  Windows Opera...   \n",
       "1            [Microsoft Office,  R,  SPSS,  Minitab]   \n",
       "2            [Microsoft Office,  R,  SPSS,  Minitab]   \n",
       "3  [Linux Operating System,  Go,  JavaScript,  Re...   \n",
       "4                                                [-]   \n",
       "\n",
       "                                          Hard Skill  \\\n",
       "0  [Programming,  Statistical Analysis,  Survey, ...   \n",
       "1  [Survey,  Data Analysis,  Questionnaire Making...   \n",
       "2  [Survey,  Data Analysis,  Questionnaire Making...   \n",
       "3            [Programming,  Database Administration]   \n",
       "4                                                [-]   \n",
       "\n",
       "                                          Soft Skill          Category  \n",
       "0      [Team Work,  Time Management,  Communication]    Related to Job  \n",
       "1  [Team Work,  Time Management,  Communication, ...    Related to Job  \n",
       "2  [Team Work,  Time Management,  Communication, ...    Related to Job  \n",
       "3  [Team Work,  Time Management,  Multitasking,  ...    Related to Job  \n",
       "4      [Public Speaking,  Communication,  Team Work]  Unrelated to Job  "
      ]
     },
     "execution_count": 25,
     "metadata": {},
     "output_type": "execute_result"
    }
   ],
   "source": [
    "experience['Association'] = experience['Association'].apply(stringSplit)\n",
    "experience['Tools'] = experience['Tools'].apply(stringSplit)\n",
    "experience['Hard Skill'] = experience['Hard Skill'].apply(stringSplit)\n",
    "experience['Soft Skill'] = experience['Soft Skill'].apply(stringSplit)\n",
    "experience.head()"
   ]
  },
  {
   "cell_type": "code",
   "execution_count": 29,
   "metadata": {},
   "outputs": [
    {
     "data": {
      "text/html": [
       "<div>\n",
       "<style scoped>\n",
       "    .dataframe tbody tr th:only-of-type {\n",
       "        vertical-align: middle;\n",
       "    }\n",
       "\n",
       "    .dataframe tbody tr th {\n",
       "        vertical-align: top;\n",
       "    }\n",
       "\n",
       "    .dataframe thead th {\n",
       "        text-align: right;\n",
       "    }\n",
       "</style>\n",
       "<table border=\"1\" class=\"dataframe\">\n",
       "  <thead>\n",
       "    <tr style=\"text-align: right;\">\n",
       "      <th></th>\n",
       "      <th>Type</th>\n",
       "      <th>Name</th>\n",
       "      <th>Expertise Level (out of 5)</th>\n",
       "      <th>Star</th>\n",
       "      <th>First Use</th>\n",
       "      <th>Latest Use</th>\n",
       "      <th>Years of Experience</th>\n",
       "      <th>Associated with</th>\n",
       "    </tr>\n",
       "  </thead>\n",
       "  <tbody>\n",
       "    <tr>\n",
       "      <th>0</th>\n",
       "      <td>Programming Language</td>\n",
       "      <td>R</td>\n",
       "      <td>5</td>\n",
       "      <td>5</td>\n",
       "      <td>2018-01-01</td>\n",
       "      <td>2024-06-29 03:09:17.280</td>\n",
       "      <td>6.416667</td>\n",
       "      <td>[University of Brawijaya,  Bogor Agricultural ...</td>\n",
       "    </tr>\n",
       "    <tr>\n",
       "      <th>1</th>\n",
       "      <td>Programming Language</td>\n",
       "      <td>Python</td>\n",
       "      <td>5</td>\n",
       "      <td>5</td>\n",
       "      <td>2019-01-01</td>\n",
       "      <td>2024-06-29 03:09:17.280</td>\n",
       "      <td>5.416667</td>\n",
       "      <td>[University of Brawijaya,  Bogor Agricultural ...</td>\n",
       "    </tr>\n",
       "    <tr>\n",
       "      <th>2</th>\n",
       "      <td>Dashboard</td>\n",
       "      <td>RShiny</td>\n",
       "      <td>4</td>\n",
       "      <td>4</td>\n",
       "      <td>2021-01-01</td>\n",
       "      <td>2024-06-29 03:09:17.280</td>\n",
       "      <td>3.416667</td>\n",
       "      <td>[Bogor Agricultural (IPB) University]</td>\n",
       "    </tr>\n",
       "    <tr>\n",
       "      <th>3</th>\n",
       "      <td>Dashboard</td>\n",
       "      <td>Streamlit</td>\n",
       "      <td>4</td>\n",
       "      <td>4</td>\n",
       "      <td>2022-06-01</td>\n",
       "      <td>2024-06-29 03:09:17.280</td>\n",
       "      <td>2.000000</td>\n",
       "      <td>[Bogor Agricultural (IPB) University]</td>\n",
       "    </tr>\n",
       "    <tr>\n",
       "      <th>4</th>\n",
       "      <td>Dashboard</td>\n",
       "      <td>Tableau</td>\n",
       "      <td>3</td>\n",
       "      <td>3</td>\n",
       "      <td>2024-01-01</td>\n",
       "      <td>2024-06-29 03:09:17.280</td>\n",
       "      <td>0.416667</td>\n",
       "      <td>[Bogor Agricultural (IPB) University]</td>\n",
       "    </tr>\n",
       "  </tbody>\n",
       "</table>\n",
       "</div>"
      ],
      "text/plain": [
       "                   Type       Name  Expertise Level (out of 5)  Star  \\\n",
       "0  Programming Language          R                           5     5   \n",
       "1  Programming Language     Python                           5     5   \n",
       "2             Dashboard     RShiny                           4     4   \n",
       "3             Dashboard  Streamlit                           4     4   \n",
       "4             Dashboard    Tableau                           3     3   \n",
       "\n",
       "   First Use              Latest Use  Years of Experience  \\\n",
       "0 2018-01-01 2024-06-29 03:09:17.280             6.416667   \n",
       "1 2019-01-01 2024-06-29 03:09:17.280             5.416667   \n",
       "2 2021-01-01 2024-06-29 03:09:17.280             3.416667   \n",
       "3 2022-06-01 2024-06-29 03:09:17.280             2.000000   \n",
       "4 2024-01-01 2024-06-29 03:09:17.280             0.416667   \n",
       "\n",
       "                                     Associated with  \n",
       "0  [University of Brawijaya,  Bogor Agricultural ...  \n",
       "1  [University of Brawijaya,  Bogor Agricultural ...  \n",
       "2              [Bogor Agricultural (IPB) University]  \n",
       "3              [Bogor Agricultural (IPB) University]  \n",
       "4              [Bogor Agricultural (IPB) University]  "
      ]
     },
     "execution_count": 29,
     "metadata": {},
     "output_type": "execute_result"
    }
   ],
   "source": [
    "skill['Associated with'] = skill['Associated with'].apply(stringSplit)\n",
    "skill.head()"
   ]
  },
  {
   "cell_type": "code",
   "execution_count": 34,
   "metadata": {},
   "outputs": [
    {
     "data": {
      "text/html": [
       "<div>\n",
       "<style scoped>\n",
       "    .dataframe tbody tr th:only-of-type {\n",
       "        vertical-align: middle;\n",
       "    }\n",
       "\n",
       "    .dataframe tbody tr th {\n",
       "        vertical-align: top;\n",
       "    }\n",
       "\n",
       "    .dataframe thead th {\n",
       "        text-align: right;\n",
       "    }\n",
       "</style>\n",
       "<table border=\"1\" class=\"dataframe\">\n",
       "  <thead>\n",
       "    <tr style=\"text-align: right;\">\n",
       "      <th></th>\n",
       "      <th>Type</th>\n",
       "      <th>Name</th>\n",
       "      <th>Skill</th>\n",
       "      <th>Tools</th>\n",
       "      <th>Method</th>\n",
       "      <th>Date</th>\n",
       "      <th>Associated with</th>\n",
       "      <th>Link</th>\n",
       "      <th>Status</th>\n",
       "    </tr>\n",
       "  </thead>\n",
       "  <tbody>\n",
       "    <tr>\n",
       "      <th>0</th>\n",
       "      <td>Report</td>\n",
       "      <td>BERT Applications for NLP</td>\n",
       "      <td>Data Cleaning, Data Exploration, Sentiment Ana...</td>\n",
       "      <td>Python, Tensorflow, Transformers, NLTK, Spacy,...</td>\n",
       "      <td>BERT</td>\n",
       "      <td>2024-06-01</td>\n",
       "      <td>Bogor Agricultural (IPB) University</td>\n",
       "      <td>https://colab.research.google.com/drive/1JkvHy...</td>\n",
       "      <td>Individual</td>\n",
       "    </tr>\n",
       "    <tr>\n",
       "      <th>1</th>\n",
       "      <td>Dashboard</td>\n",
       "      <td>Dashboard Making on Inter-Regional Input-Outpu...</td>\n",
       "      <td>Data Visualization, Dashboard Making, Chatbots...</td>\n",
       "      <td>Python, Streamlit, OpenAI, Microsoft Excel, Git</td>\n",
       "      <td>Clustering, Text Analytics, Large Language Mod...</td>\n",
       "      <td>2024-05-01</td>\n",
       "      <td>Bogor Agricultural (IPB) University</td>\n",
       "      <td>https://bit.ly/anovasion-irio, https://github....</td>\n",
       "      <td>Teamwork</td>\n",
       "    </tr>\n",
       "    <tr>\n",
       "      <th>2</th>\n",
       "      <td>Report</td>\n",
       "      <td>Text Summarization for NLP</td>\n",
       "      <td>Text Analysis, Natural Language Processing (NLP)</td>\n",
       "      <td>Python, Spacy, NLTK</td>\n",
       "      <td>TextRank</td>\n",
       "      <td>2024-05-01</td>\n",
       "      <td>Bogor Agricultural (IPB) University</td>\n",
       "      <td>https://drive.google.com/file/d/124W6cPHAv6ZYP...</td>\n",
       "      <td>Individual</td>\n",
       "    </tr>\n",
       "    <tr>\n",
       "      <th>3</th>\n",
       "      <td>Report</td>\n",
       "      <td>Sentiment Analysis Methods</td>\n",
       "      <td>Data Cleaning, Data Exploration, Sentiment Ana...</td>\n",
       "      <td>Python, Tensorflow, Scikit-learn, Transformers...</td>\n",
       "      <td>BERT, Lexicon Based Sentiment Analysis, SMOTE,...</td>\n",
       "      <td>2024-04-01</td>\n",
       "      <td>Bogor Agricultural (IPB) University</td>\n",
       "      <td>https://drive.google.com/file/d/1vTb72CB9afZND...</td>\n",
       "      <td>Individual</td>\n",
       "    </tr>\n",
       "    <tr>\n",
       "      <th>4</th>\n",
       "      <td>Research Paper</td>\n",
       "      <td>Regularization of Machine Learning Models with...</td>\n",
       "      <td>Classification, Machine Learning, Data Simulat...</td>\n",
       "      <td>R</td>\n",
       "      <td>LASSO, Ridge, Elastic Net, Penalized Regressio...</td>\n",
       "      <td>2024-03-01</td>\n",
       "      <td>Bogor Agricultural (IPB) University</td>\n",
       "      <td>https://doi.org/10.19184/mims.v24i1.40360</td>\n",
       "      <td>Individual</td>\n",
       "    </tr>\n",
       "  </tbody>\n",
       "</table>\n",
       "</div>"
      ],
      "text/plain": [
       "             Type                                               Name  \\\n",
       "0          Report                          BERT Applications for NLP   \n",
       "1       Dashboard  Dashboard Making on Inter-Regional Input-Outpu...   \n",
       "2          Report                         Text Summarization for NLP   \n",
       "3          Report                         Sentiment Analysis Methods   \n",
       "4  Research Paper  Regularization of Machine Learning Models with...   \n",
       "\n",
       "                                               Skill  \\\n",
       "0  Data Cleaning, Data Exploration, Sentiment Ana...   \n",
       "1  Data Visualization, Dashboard Making, Chatbots...   \n",
       "2   Text Analysis, Natural Language Processing (NLP)   \n",
       "3  Data Cleaning, Data Exploration, Sentiment Ana...   \n",
       "4  Classification, Machine Learning, Data Simulat...   \n",
       "\n",
       "                                               Tools  \\\n",
       "0  Python, Tensorflow, Transformers, NLTK, Spacy,...   \n",
       "1    Python, Streamlit, OpenAI, Microsoft Excel, Git   \n",
       "2                                Python, Spacy, NLTK   \n",
       "3  Python, Tensorflow, Scikit-learn, Transformers...   \n",
       "4                                                  R   \n",
       "\n",
       "                                              Method       Date  \\\n",
       "0                                               BERT 2024-06-01   \n",
       "1  Clustering, Text Analytics, Large Language Mod... 2024-05-01   \n",
       "2                                           TextRank 2024-05-01   \n",
       "3  BERT, Lexicon Based Sentiment Analysis, SMOTE,... 2024-04-01   \n",
       "4  LASSO, Ridge, Elastic Net, Penalized Regressio... 2024-03-01   \n",
       "\n",
       "                       Associated with  \\\n",
       "0  Bogor Agricultural (IPB) University   \n",
       "1  Bogor Agricultural (IPB) University   \n",
       "2  Bogor Agricultural (IPB) University   \n",
       "3  Bogor Agricultural (IPB) University   \n",
       "4  Bogor Agricultural (IPB) University   \n",
       "\n",
       "                                                Link      Status  \n",
       "0  https://colab.research.google.com/drive/1JkvHy...  Individual  \n",
       "1  https://bit.ly/anovasion-irio, https://github....    Teamwork  \n",
       "2  https://drive.google.com/file/d/124W6cPHAv6ZYP...  Individual  \n",
       "3  https://drive.google.com/file/d/1vTb72CB9afZND...  Individual  \n",
       "4          https://doi.org/10.19184/mims.v24i1.40360  Individual  "
      ]
     },
     "execution_count": 34,
     "metadata": {},
     "output_type": "execute_result"
    }
   ],
   "source": [
    "portfolio.head()"
   ]
  },
  {
   "cell_type": "code",
   "execution_count": 35,
   "metadata": {},
   "outputs": [
    {
     "data": {
      "text/html": [
       "<div>\n",
       "<style scoped>\n",
       "    .dataframe tbody tr th:only-of-type {\n",
       "        vertical-align: middle;\n",
       "    }\n",
       "\n",
       "    .dataframe tbody tr th {\n",
       "        vertical-align: top;\n",
       "    }\n",
       "\n",
       "    .dataframe thead th {\n",
       "        text-align: right;\n",
       "    }\n",
       "</style>\n",
       "<table border=\"1\" class=\"dataframe\">\n",
       "  <thead>\n",
       "    <tr style=\"text-align: right;\">\n",
       "      <th></th>\n",
       "      <th>Type</th>\n",
       "      <th>Name</th>\n",
       "      <th>Skill</th>\n",
       "      <th>Tools</th>\n",
       "      <th>Method</th>\n",
       "      <th>Date</th>\n",
       "      <th>Associated with</th>\n",
       "      <th>Link</th>\n",
       "      <th>Status</th>\n",
       "    </tr>\n",
       "  </thead>\n",
       "  <tbody>\n",
       "    <tr>\n",
       "      <th>0</th>\n",
       "      <td>Report</td>\n",
       "      <td>BERT Applications for NLP</td>\n",
       "      <td>[Data Cleaning,  Data Exploration,  Sentiment ...</td>\n",
       "      <td>[Python,  Tensorflow,  Transformers,  NLTK,  S...</td>\n",
       "      <td>[BERT]</td>\n",
       "      <td>2024-06-01</td>\n",
       "      <td>Bogor Agricultural (IPB) University</td>\n",
       "      <td>https://colab.research.google.com/drive/1JkvHy...</td>\n",
       "      <td>Individual</td>\n",
       "    </tr>\n",
       "    <tr>\n",
       "      <th>1</th>\n",
       "      <td>Dashboard</td>\n",
       "      <td>Dashboard Making on Inter-Regional Input-Outpu...</td>\n",
       "      <td>[Data Visualization,  Dashboard Making,  Chatb...</td>\n",
       "      <td>[Python,  Streamlit,  OpenAI,  Microsoft Excel...</td>\n",
       "      <td>[Clustering,  Text Analytics,  Large Language ...</td>\n",
       "      <td>2024-05-01</td>\n",
       "      <td>Bogor Agricultural (IPB) University</td>\n",
       "      <td>https://bit.ly/anovasion-irio, https://github....</td>\n",
       "      <td>Teamwork</td>\n",
       "    </tr>\n",
       "    <tr>\n",
       "      <th>2</th>\n",
       "      <td>Report</td>\n",
       "      <td>Text Summarization for NLP</td>\n",
       "      <td>[Text Analysis,  Natural Language Processing (...</td>\n",
       "      <td>[Python,  Spacy,  NLTK]</td>\n",
       "      <td>[TextRank]</td>\n",
       "      <td>2024-05-01</td>\n",
       "      <td>Bogor Agricultural (IPB) University</td>\n",
       "      <td>https://drive.google.com/file/d/124W6cPHAv6ZYP...</td>\n",
       "      <td>Individual</td>\n",
       "    </tr>\n",
       "    <tr>\n",
       "      <th>3</th>\n",
       "      <td>Report</td>\n",
       "      <td>Sentiment Analysis Methods</td>\n",
       "      <td>[Data Cleaning,  Data Exploration,  Sentiment ...</td>\n",
       "      <td>[Python,  Tensorflow,  Scikit-learn,  Transfor...</td>\n",
       "      <td>[BERT,  Lexicon Based Sentiment Analysis,  SMO...</td>\n",
       "      <td>2024-04-01</td>\n",
       "      <td>Bogor Agricultural (IPB) University</td>\n",
       "      <td>https://drive.google.com/file/d/1vTb72CB9afZND...</td>\n",
       "      <td>Individual</td>\n",
       "    </tr>\n",
       "    <tr>\n",
       "      <th>4</th>\n",
       "      <td>Research Paper</td>\n",
       "      <td>Regularization of Machine Learning Models with...</td>\n",
       "      <td>[Classification,  Machine Learning,  Data Simu...</td>\n",
       "      <td>[R]</td>\n",
       "      <td>[LASSO,  Ridge,  Elastic Net,  Penalized Regre...</td>\n",
       "      <td>2024-03-01</td>\n",
       "      <td>Bogor Agricultural (IPB) University</td>\n",
       "      <td>https://doi.org/10.19184/mims.v24i1.40360</td>\n",
       "      <td>Individual</td>\n",
       "    </tr>\n",
       "  </tbody>\n",
       "</table>\n",
       "</div>"
      ],
      "text/plain": [
       "             Type                                               Name  \\\n",
       "0          Report                          BERT Applications for NLP   \n",
       "1       Dashboard  Dashboard Making on Inter-Regional Input-Outpu...   \n",
       "2          Report                         Text Summarization for NLP   \n",
       "3          Report                         Sentiment Analysis Methods   \n",
       "4  Research Paper  Regularization of Machine Learning Models with...   \n",
       "\n",
       "                                               Skill  \\\n",
       "0  [Data Cleaning,  Data Exploration,  Sentiment ...   \n",
       "1  [Data Visualization,  Dashboard Making,  Chatb...   \n",
       "2  [Text Analysis,  Natural Language Processing (...   \n",
       "3  [Data Cleaning,  Data Exploration,  Sentiment ...   \n",
       "4  [Classification,  Machine Learning,  Data Simu...   \n",
       "\n",
       "                                               Tools  \\\n",
       "0  [Python,  Tensorflow,  Transformers,  NLTK,  S...   \n",
       "1  [Python,  Streamlit,  OpenAI,  Microsoft Excel...   \n",
       "2                            [Python,  Spacy,  NLTK]   \n",
       "3  [Python,  Tensorflow,  Scikit-learn,  Transfor...   \n",
       "4                                                [R]   \n",
       "\n",
       "                                              Method       Date  \\\n",
       "0                                             [BERT] 2024-06-01   \n",
       "1  [Clustering,  Text Analytics,  Large Language ... 2024-05-01   \n",
       "2                                         [TextRank] 2024-05-01   \n",
       "3  [BERT,  Lexicon Based Sentiment Analysis,  SMO... 2024-04-01   \n",
       "4  [LASSO,  Ridge,  Elastic Net,  Penalized Regre... 2024-03-01   \n",
       "\n",
       "                       Associated with  \\\n",
       "0  Bogor Agricultural (IPB) University   \n",
       "1  Bogor Agricultural (IPB) University   \n",
       "2  Bogor Agricultural (IPB) University   \n",
       "3  Bogor Agricultural (IPB) University   \n",
       "4  Bogor Agricultural (IPB) University   \n",
       "\n",
       "                                                Link      Status  \n",
       "0  https://colab.research.google.com/drive/1JkvHy...  Individual  \n",
       "1  https://bit.ly/anovasion-irio, https://github....    Teamwork  \n",
       "2  https://drive.google.com/file/d/124W6cPHAv6ZYP...  Individual  \n",
       "3  https://drive.google.com/file/d/1vTb72CB9afZND...  Individual  \n",
       "4          https://doi.org/10.19184/mims.v24i1.40360  Individual  "
      ]
     },
     "execution_count": 35,
     "metadata": {},
     "output_type": "execute_result"
    }
   ],
   "source": [
    "portfolio['Skill'] = portfolio['Skill'].apply(stringSplit)\n",
    "portfolio['Method'] = portfolio['Method'].apply(stringSplit)\n",
    "portfolio['Tools'] = portfolio['Tools'].apply(stringSplit)\n",
    "portfolio.head()"
   ]
  },
  {
   "cell_type": "code",
   "execution_count": 119,
   "metadata": {},
   "outputs": [
    {
     "data": {
      "text/plain": [
       "[{'Task': 'Student',\n",
       "  'Start': '2017-08-19',\n",
       "  'Finish': '2021-04-08',\n",
       "  'Resource': 'Education',\n",
       "  'Description': 'University of Brawijaya'},\n",
       " {'Task': 'Team Associate',\n",
       "  'Start': '2019-11-20',\n",
       "  'Finish': '2020-10-31',\n",
       "  'Resource': 'Work',\n",
       "  'Description': 'KKU-PSBM FMIPA University of Brawijaya'},\n",
       " {'Task': 'Support Staff',\n",
       "  'Start': '2020-10-01',\n",
       "  'Finish': '2021-07-31',\n",
       "  'Resource': 'Work',\n",
       "  'Description': 'PT Utama Abadi Sejahtera'},\n",
       " {'Task': 'IT Trainee ',\n",
       "  'Start': '2021-10-01',\n",
       "  'Finish': '2022-03-04',\n",
       "  'Resource': 'Work',\n",
       "  'Description': 'Sinarmas Mining'},\n",
       " {'Task': 'Awardee',\n",
       "  'Start': '2022-05-11',\n",
       "  'Finish': '2024-08-16',\n",
       "  'Resource': 'Education',\n",
       "  'Description': 'Indonesia Endowment Fund for Education Agency'},\n",
       " {'Task': 'Student',\n",
       "  'Start': '2022-08-15',\n",
       "  'Finish': '2024-08-17',\n",
       "  'Resource': 'Education',\n",
       "  'Description': 'Bogor Agricultural (IPB) University'},\n",
       " {'Task': 'Student',\n",
       "  'Start': '2022-08-04',\n",
       "  'Finish': '2022-10-30',\n",
       "  'Resource': 'Course',\n",
       "  'Description': 'TETRIS PROA x DQLab Professional Python for Data Science'},\n",
       " {'Task': 'Scientific Division Staff',\n",
       "  'Start': '2023-02-23',\n",
       "  'Finish': '2023-12-30',\n",
       "  'Resource': 'Organization',\n",
       "  'Description': 'The Professional Association of Postgraduate Statistics Students (Himpunan Profesi (HImpro) Pascasarjana Statistika)'},\n",
       " {'Task': 'Project Responsible',\n",
       "  'Start': '2023-02-23',\n",
       "  'Finish': '2023-12-29',\n",
       "  'Resource': 'Activity',\n",
       "  'Description': 'Belajar Bareng (Collective Study)'},\n",
       " {'Task': 'Treasurer',\n",
       "  'Start': '2023-02-23',\n",
       "  'Finish': '2023-03-24',\n",
       "  'Resource': 'Activity',\n",
       "  'Description': 'Statistics on Training #1: Spatial Modeling on Data Area'},\n",
       " {'Task': 'Head of Event Division',\n",
       "  'Start': '2023-04-21',\n",
       "  'Finish': '2023-04-21',\n",
       "  'Resource': 'Activity',\n",
       "  'Description': 'Sparkling Ramadhan'},\n",
       " {'Task': 'Chief Executive',\n",
       "  'Start': '2023-04-20',\n",
       "  'Finish': '2023-05-25',\n",
       "  'Resource': 'Activity',\n",
       "  'Description': 'Statistics on Training #2: Advanced Web Crawling & Web Scraping'},\n",
       " {'Task': 'Data Analyst',\n",
       "  'Start': '2023-06-23',\n",
       "  'Finish': '2023-08-31',\n",
       "  'Resource': 'Activity',\n",
       "  'Description': 'Happiness Index of Depok Regency 2023'},\n",
       " {'Task': 'Data Analyst',\n",
       "  'Start': '2023-06-23',\n",
       "  'Finish': '2023-10-20',\n",
       "  'Resource': 'Activity',\n",
       "  'Description': 'Happiness Index of Bekasi Regency 2023'},\n",
       " {'Task': 'Master of Ceremonies',\n",
       "  'Start': '2023-08-11',\n",
       "  'Finish': '2023-08-29',\n",
       "  'Resource': 'Activity',\n",
       "  'Description': 'Welcoming New Postgraduate Students'},\n",
       " {'Task': 'Moderator, Master of Ceremonies',\n",
       "  'Start': '2023-08-10',\n",
       "  'Finish': '2023-09-15',\n",
       "  'Resource': 'Activity',\n",
       "  'Description': 'Web Seminar: Statistical Journals Publication and Writings'},\n",
       " {'Task': 'Assistant Lecture',\n",
       "  'Start': '2023-08-11',\n",
       "  'Finish': '2023-12-29',\n",
       "  'Resource': 'Lecture',\n",
       "  'Description': 'Multivariate Data Techniques'},\n",
       " {'Task': 'Assistant Lecture',\n",
       "  'Start': '2023-08-11',\n",
       "  'Finish': '2023-12-29',\n",
       "  'Resource': 'Lecture',\n",
       "  'Description': 'Statistics for Engineering'},\n",
       " {'Task': 'PR, Decoration & Documentation Division Head',\n",
       "  'Start': '2023-11-21',\n",
       "  'Finish': '2023-11-24',\n",
       "  'Resource': 'Activity',\n",
       "  'Description': 'Closing Ceremony DTS TSA IPB x Kominfo RI'},\n",
       " {'Task': 'Assistant Lecture',\n",
       "  'Start': '2024-01-19',\n",
       "  'Finish': '2024-06-27',\n",
       "  'Resource': 'Lecture',\n",
       "  'Description': 'Text Analytics'}]"
      ]
     },
     "execution_count": 119,
     "metadata": {},
     "output_type": "execute_result"
    }
   ],
   "source": [
    "df_exp = []\n",
    "for i in range(len(experience)):\n",
    "    df_exp.append(dict(\n",
    "        Task = experience.loc[i, 'Position'],\n",
    "        Start = str(experience.loc[i, 'Start']),\n",
    "        Finish = str(experience.loc[i, 'End']),\n",
    "        Resource = experience.loc[i, 'Type'],\n",
    "        Description = experience.loc[i, 'Organization']\n",
    "    ))\n",
    "df_exp"
   ]
  },
  {
   "cell_type": "code",
   "execution_count": 123,
   "metadata": {},
   "outputs": [
    {
     "data": {
      "application/vnd.plotly.v1+json": {
       "config": {
        "plotlyServerURL": "https://plot.ly"
       },
       "data": [
        {
         "fill": "toself",
         "fillcolor": "rgb(108, 162, 175)",
         "hoverinfo": "name",
         "legendgroup": "rgb(108, 162, 175)",
         "mode": "none",
         "name": "Lecture",
         "type": "scatter",
         "x": [
          "2023-08-11",
          "2023-12-29",
          "2023-12-29",
          "2023-08-11",
          "2023-08-11",
          "2023-08-11",
          "2023-12-29",
          "2023-12-29",
          "2023-08-11",
          "2023-08-11",
          "2024-01-19",
          "2024-06-27",
          "2024-06-27",
          "2024-01-19"
         ],
         "y": [
          0.8,
          0.8,
          1.2,
          1.2,
          null,
          0.8,
          0.8,
          1.2,
          1.2,
          null,
          0.8,
          0.8,
          1.2,
          1.2
         ]
        },
        {
         "fill": "toself",
         "fillcolor": "rgb(109, 121, 97)",
         "hoverinfo": "name",
         "legendgroup": "rgb(109, 121, 97)",
         "mode": "none",
         "name": "Activity",
         "type": "scatter",
         "x": [
          "2023-02-23",
          "2023-12-29",
          "2023-12-29",
          "2023-02-23",
          "2023-02-23",
          "2023-02-23",
          "2023-03-24",
          "2023-03-24",
          "2023-02-23",
          "2023-02-23",
          "2023-04-21",
          "2023-04-21",
          "2023-04-21",
          "2023-04-21",
          "2023-04-21",
          "2023-04-20",
          "2023-05-25",
          "2023-05-25",
          "2023-04-20",
          "2023-04-20",
          "2023-06-23",
          "2023-08-31",
          "2023-08-31",
          "2023-06-23",
          "2023-06-23",
          "2023-06-23",
          "2023-10-20",
          "2023-10-20",
          "2023-06-23",
          "2023-06-23",
          "2023-08-11",
          "2023-08-29",
          "2023-08-29",
          "2023-08-11",
          "2023-08-11",
          "2023-08-10",
          "2023-09-15",
          "2023-09-15",
          "2023-08-10",
          "2023-08-10",
          "2023-11-21",
          "2023-11-24",
          "2023-11-24",
          "2023-11-21"
         ],
         "y": [
          7.8,
          7.8,
          8.2,
          8.2,
          null,
          6.8,
          6.8,
          7.2,
          7.2,
          null,
          5.8,
          5.8,
          6.2,
          6.2,
          null,
          4.8,
          4.8,
          5.2,
          5.2,
          null,
          3.8,
          3.8,
          4.2,
          4.2,
          null,
          3.8,
          3.8,
          4.2,
          4.2,
          null,
          2.8,
          2.8,
          3.2,
          3.2,
          null,
          1.8,
          1.8,
          2.2,
          2.2,
          null,
          -0.2,
          -0.2,
          0.2,
          0.2
         ]
        },
        {
         "fill": "toself",
         "fillcolor": "rgb(152, 86, 70)",
         "hoverinfo": "name",
         "legendgroup": "rgb(152, 86, 70)",
         "mode": "none",
         "name": "Education",
         "type": "scatter",
         "x": [
          "2017-08-19",
          "2021-04-08",
          "2021-04-08",
          "2017-08-19",
          "2017-08-19",
          "2022-05-11",
          "2024-08-16",
          "2024-08-16",
          "2022-05-11",
          "2022-05-11",
          "2022-08-15",
          "2024-08-17",
          "2024-08-17",
          "2022-08-15"
         ],
         "y": [
          13.8,
          13.8,
          14.2,
          14.2,
          null,
          9.8,
          9.8,
          10.2,
          10.2,
          null,
          13.8,
          13.8,
          14.2,
          14.2
         ]
        },
        {
         "fill": "toself",
         "fillcolor": "rgb(156, 125, 97)",
         "hoverinfo": "name",
         "legendgroup": "rgb(156, 125, 97)",
         "mode": "none",
         "name": "Organization",
         "type": "scatter",
         "x": [
          "2023-02-23",
          "2023-12-30",
          "2023-12-30",
          "2023-02-23"
         ],
         "y": [
          8.8,
          8.8,
          9.2,
          9.2
         ]
        },
        {
         "fill": "toself",
         "fillcolor": "rgb(191, 136, 89)",
         "hoverinfo": "name",
         "legendgroup": "rgb(191, 136, 89)",
         "mode": "none",
         "name": "Work",
         "type": "scatter",
         "x": [
          "2019-11-20",
          "2020-10-31",
          "2020-10-31",
          "2019-11-20",
          "2019-11-20",
          "2020-10-01",
          "2021-07-31",
          "2021-07-31",
          "2020-10-01",
          "2020-10-01",
          "2021-10-01",
          "2022-03-04",
          "2022-03-04",
          "2021-10-01"
         ],
         "y": [
          12.8,
          12.8,
          13.2,
          13.2,
          null,
          11.8,
          11.8,
          12.2,
          12.2,
          null,
          10.8,
          10.8,
          11.2,
          11.2
         ]
        },
        {
         "fill": "toself",
         "fillcolor": "rgb(75, 119, 132)",
         "hoverinfo": "name",
         "legendgroup": "rgb(75, 119, 132)",
         "mode": "none",
         "name": "Course",
         "type": "scatter",
         "x": [
          "2022-08-04",
          "2022-10-30",
          "2022-10-30",
          "2022-08-04"
         ],
         "y": [
          13.8,
          13.8,
          14.2,
          14.2
         ]
        },
        {
         "legendgroup": "rgb(108, 162, 175)",
         "marker": {
          "color": "rgb(108, 162, 175)",
          "opacity": 0,
          "size": 1
         },
         "mode": "markers",
         "name": "",
         "showlegend": false,
         "text": [
          "Multivariate Data Techniques",
          "Multivariate Data Techniques",
          "Statistics for Engineering",
          "Statistics for Engineering",
          "Text Analytics",
          "Text Analytics"
         ],
         "type": "scatter",
         "x": [
          "2023-08-11",
          "2023-12-29",
          "2023-08-11",
          "2023-12-29",
          "2024-01-19",
          "2024-06-27"
         ],
         "y": [
          1,
          1,
          1,
          1,
          1,
          1
         ]
        },
        {
         "legendgroup": "rgb(109, 121, 97)",
         "marker": {
          "color": "rgb(109, 121, 97)",
          "opacity": 0,
          "size": 1
         },
         "mode": "markers",
         "name": "",
         "showlegend": false,
         "text": [
          "Belajar Bareng (Collective Study)",
          "Belajar Bareng (Collective Study)",
          "Statistics on Training #1: Spatial Modeling on Data Area",
          "Statistics on Training #1: Spatial Modeling on Data Area",
          "Sparkling Ramadhan",
          "Sparkling Ramadhan",
          "Statistics on Training #2: Advanced Web Crawling & Web Scraping",
          "Statistics on Training #2: Advanced Web Crawling & Web Scraping",
          "Happiness Index of Depok Regency 2023",
          "Happiness Index of Depok Regency 2023",
          "Happiness Index of Bekasi Regency 2023",
          "Happiness Index of Bekasi Regency 2023",
          "Welcoming New Postgraduate Students",
          "Welcoming New Postgraduate Students",
          "Web Seminar: Statistical Journals Publication and Writings",
          "Web Seminar: Statistical Journals Publication and Writings",
          "Closing Ceremony DTS TSA IPB x Kominfo RI",
          "Closing Ceremony DTS TSA IPB x Kominfo RI"
         ],
         "type": "scatter",
         "x": [
          "2023-02-23",
          "2023-12-29",
          "2023-02-23",
          "2023-03-24",
          "2023-04-21",
          "2023-04-21",
          "2023-04-20",
          "2023-05-25",
          "2023-06-23",
          "2023-08-31",
          "2023-06-23",
          "2023-10-20",
          "2023-08-11",
          "2023-08-29",
          "2023-08-10",
          "2023-09-15",
          "2023-11-21",
          "2023-11-24"
         ],
         "y": [
          8,
          8,
          7,
          7,
          6,
          6,
          5,
          5,
          4,
          4,
          4,
          4,
          3,
          3,
          2,
          2,
          0,
          0
         ]
        },
        {
         "legendgroup": "rgb(152, 86, 70)",
         "marker": {
          "color": "rgb(152, 86, 70)",
          "opacity": 0,
          "size": 1
         },
         "mode": "markers",
         "name": "",
         "showlegend": false,
         "text": [
          "University of Brawijaya",
          "University of Brawijaya",
          "Indonesia Endowment Fund for Education Agency",
          "Indonesia Endowment Fund for Education Agency",
          "Bogor Agricultural (IPB) University",
          "Bogor Agricultural (IPB) University"
         ],
         "type": "scatter",
         "x": [
          "2017-08-19",
          "2021-04-08",
          "2022-05-11",
          "2024-08-16",
          "2022-08-15",
          "2024-08-17"
         ],
         "y": [
          14,
          14,
          10,
          10,
          14,
          14
         ]
        },
        {
         "legendgroup": "rgb(156, 125, 97)",
         "marker": {
          "color": "rgb(156, 125, 97)",
          "opacity": 0,
          "size": 1
         },
         "mode": "markers",
         "name": "",
         "showlegend": false,
         "text": [
          "The Professional Association of Postgraduate Statistics Students (Himpunan Profesi (HImpro) Pascasarjana Statistika)",
          "The Professional Association of Postgraduate Statistics Students (Himpunan Profesi (HImpro) Pascasarjana Statistika)"
         ],
         "type": "scatter",
         "x": [
          "2023-02-23",
          "2023-12-30"
         ],
         "y": [
          9,
          9
         ]
        },
        {
         "legendgroup": "rgb(191, 136, 89)",
         "marker": {
          "color": "rgb(191, 136, 89)",
          "opacity": 0,
          "size": 1
         },
         "mode": "markers",
         "name": "",
         "showlegend": false,
         "text": [
          "KKU-PSBM FMIPA University of Brawijaya",
          "KKU-PSBM FMIPA University of Brawijaya",
          "PT Utama Abadi Sejahtera",
          "PT Utama Abadi Sejahtera",
          "Sinarmas Mining",
          "Sinarmas Mining"
         ],
         "type": "scatter",
         "x": [
          "2019-11-20",
          "2020-10-31",
          "2020-10-01",
          "2021-07-31",
          "2021-10-01",
          "2022-03-04"
         ],
         "y": [
          13,
          13,
          12,
          12,
          11,
          11
         ]
        },
        {
         "legendgroup": "rgb(75, 119, 132)",
         "marker": {
          "color": "rgb(75, 119, 132)",
          "opacity": 0,
          "size": 1
         },
         "mode": "markers",
         "name": "",
         "showlegend": false,
         "text": [
          "TETRIS PROA x DQLab Professional Python for Data Science",
          "TETRIS PROA x DQLab Professional Python for Data Science"
         ],
         "type": "scatter",
         "x": [
          "2022-08-04",
          "2022-10-30"
         ],
         "y": [
          14,
          14
         ]
        }
       ],
       "layout": {
        "autosize": true,
        "height": 600,
        "hovermode": "closest",
        "showlegend": true,
        "template": {
         "data": {
          "bar": [
           {
            "error_x": {
             "color": "#2a3f5f"
            },
            "error_y": {
             "color": "#2a3f5f"
            },
            "marker": {
             "line": {
              "color": "#E5ECF6",
              "width": 0.5
             },
             "pattern": {
              "fillmode": "overlay",
              "size": 10,
              "solidity": 0.2
             }
            },
            "type": "bar"
           }
          ],
          "barpolar": [
           {
            "marker": {
             "line": {
              "color": "#E5ECF6",
              "width": 0.5
             },
             "pattern": {
              "fillmode": "overlay",
              "size": 10,
              "solidity": 0.2
             }
            },
            "type": "barpolar"
           }
          ],
          "carpet": [
           {
            "aaxis": {
             "endlinecolor": "#2a3f5f",
             "gridcolor": "white",
             "linecolor": "white",
             "minorgridcolor": "white",
             "startlinecolor": "#2a3f5f"
            },
            "baxis": {
             "endlinecolor": "#2a3f5f",
             "gridcolor": "white",
             "linecolor": "white",
             "minorgridcolor": "white",
             "startlinecolor": "#2a3f5f"
            },
            "type": "carpet"
           }
          ],
          "choropleth": [
           {
            "colorbar": {
             "outlinewidth": 0,
             "ticks": ""
            },
            "type": "choropleth"
           }
          ],
          "contour": [
           {
            "colorbar": {
             "outlinewidth": 0,
             "ticks": ""
            },
            "colorscale": [
             [
              0,
              "#0d0887"
             ],
             [
              0.1111111111111111,
              "#46039f"
             ],
             [
              0.2222222222222222,
              "#7201a8"
             ],
             [
              0.3333333333333333,
              "#9c179e"
             ],
             [
              0.4444444444444444,
              "#bd3786"
             ],
             [
              0.5555555555555556,
              "#d8576b"
             ],
             [
              0.6666666666666666,
              "#ed7953"
             ],
             [
              0.7777777777777778,
              "#fb9f3a"
             ],
             [
              0.8888888888888888,
              "#fdca26"
             ],
             [
              1,
              "#f0f921"
             ]
            ],
            "type": "contour"
           }
          ],
          "contourcarpet": [
           {
            "colorbar": {
             "outlinewidth": 0,
             "ticks": ""
            },
            "type": "contourcarpet"
           }
          ],
          "heatmap": [
           {
            "colorbar": {
             "outlinewidth": 0,
             "ticks": ""
            },
            "colorscale": [
             [
              0,
              "#0d0887"
             ],
             [
              0.1111111111111111,
              "#46039f"
             ],
             [
              0.2222222222222222,
              "#7201a8"
             ],
             [
              0.3333333333333333,
              "#9c179e"
             ],
             [
              0.4444444444444444,
              "#bd3786"
             ],
             [
              0.5555555555555556,
              "#d8576b"
             ],
             [
              0.6666666666666666,
              "#ed7953"
             ],
             [
              0.7777777777777778,
              "#fb9f3a"
             ],
             [
              0.8888888888888888,
              "#fdca26"
             ],
             [
              1,
              "#f0f921"
             ]
            ],
            "type": "heatmap"
           }
          ],
          "heatmapgl": [
           {
            "colorbar": {
             "outlinewidth": 0,
             "ticks": ""
            },
            "colorscale": [
             [
              0,
              "#0d0887"
             ],
             [
              0.1111111111111111,
              "#46039f"
             ],
             [
              0.2222222222222222,
              "#7201a8"
             ],
             [
              0.3333333333333333,
              "#9c179e"
             ],
             [
              0.4444444444444444,
              "#bd3786"
             ],
             [
              0.5555555555555556,
              "#d8576b"
             ],
             [
              0.6666666666666666,
              "#ed7953"
             ],
             [
              0.7777777777777778,
              "#fb9f3a"
             ],
             [
              0.8888888888888888,
              "#fdca26"
             ],
             [
              1,
              "#f0f921"
             ]
            ],
            "type": "heatmapgl"
           }
          ],
          "histogram": [
           {
            "marker": {
             "pattern": {
              "fillmode": "overlay",
              "size": 10,
              "solidity": 0.2
             }
            },
            "type": "histogram"
           }
          ],
          "histogram2d": [
           {
            "colorbar": {
             "outlinewidth": 0,
             "ticks": ""
            },
            "colorscale": [
             [
              0,
              "#0d0887"
             ],
             [
              0.1111111111111111,
              "#46039f"
             ],
             [
              0.2222222222222222,
              "#7201a8"
             ],
             [
              0.3333333333333333,
              "#9c179e"
             ],
             [
              0.4444444444444444,
              "#bd3786"
             ],
             [
              0.5555555555555556,
              "#d8576b"
             ],
             [
              0.6666666666666666,
              "#ed7953"
             ],
             [
              0.7777777777777778,
              "#fb9f3a"
             ],
             [
              0.8888888888888888,
              "#fdca26"
             ],
             [
              1,
              "#f0f921"
             ]
            ],
            "type": "histogram2d"
           }
          ],
          "histogram2dcontour": [
           {
            "colorbar": {
             "outlinewidth": 0,
             "ticks": ""
            },
            "colorscale": [
             [
              0,
              "#0d0887"
             ],
             [
              0.1111111111111111,
              "#46039f"
             ],
             [
              0.2222222222222222,
              "#7201a8"
             ],
             [
              0.3333333333333333,
              "#9c179e"
             ],
             [
              0.4444444444444444,
              "#bd3786"
             ],
             [
              0.5555555555555556,
              "#d8576b"
             ],
             [
              0.6666666666666666,
              "#ed7953"
             ],
             [
              0.7777777777777778,
              "#fb9f3a"
             ],
             [
              0.8888888888888888,
              "#fdca26"
             ],
             [
              1,
              "#f0f921"
             ]
            ],
            "type": "histogram2dcontour"
           }
          ],
          "mesh3d": [
           {
            "colorbar": {
             "outlinewidth": 0,
             "ticks": ""
            },
            "type": "mesh3d"
           }
          ],
          "parcoords": [
           {
            "line": {
             "colorbar": {
              "outlinewidth": 0,
              "ticks": ""
             }
            },
            "type": "parcoords"
           }
          ],
          "pie": [
           {
            "automargin": true,
            "type": "pie"
           }
          ],
          "scatter": [
           {
            "fillpattern": {
             "fillmode": "overlay",
             "size": 10,
             "solidity": 0.2
            },
            "type": "scatter"
           }
          ],
          "scatter3d": [
           {
            "line": {
             "colorbar": {
              "outlinewidth": 0,
              "ticks": ""
             }
            },
            "marker": {
             "colorbar": {
              "outlinewidth": 0,
              "ticks": ""
             }
            },
            "type": "scatter3d"
           }
          ],
          "scattercarpet": [
           {
            "marker": {
             "colorbar": {
              "outlinewidth": 0,
              "ticks": ""
             }
            },
            "type": "scattercarpet"
           }
          ],
          "scattergeo": [
           {
            "marker": {
             "colorbar": {
              "outlinewidth": 0,
              "ticks": ""
             }
            },
            "type": "scattergeo"
           }
          ],
          "scattergl": [
           {
            "marker": {
             "colorbar": {
              "outlinewidth": 0,
              "ticks": ""
             }
            },
            "type": "scattergl"
           }
          ],
          "scattermapbox": [
           {
            "marker": {
             "colorbar": {
              "outlinewidth": 0,
              "ticks": ""
             }
            },
            "type": "scattermapbox"
           }
          ],
          "scatterpolar": [
           {
            "marker": {
             "colorbar": {
              "outlinewidth": 0,
              "ticks": ""
             }
            },
            "type": "scatterpolar"
           }
          ],
          "scatterpolargl": [
           {
            "marker": {
             "colorbar": {
              "outlinewidth": 0,
              "ticks": ""
             }
            },
            "type": "scatterpolargl"
           }
          ],
          "scatterternary": [
           {
            "marker": {
             "colorbar": {
              "outlinewidth": 0,
              "ticks": ""
             }
            },
            "type": "scatterternary"
           }
          ],
          "surface": [
           {
            "colorbar": {
             "outlinewidth": 0,
             "ticks": ""
            },
            "colorscale": [
             [
              0,
              "#0d0887"
             ],
             [
              0.1111111111111111,
              "#46039f"
             ],
             [
              0.2222222222222222,
              "#7201a8"
             ],
             [
              0.3333333333333333,
              "#9c179e"
             ],
             [
              0.4444444444444444,
              "#bd3786"
             ],
             [
              0.5555555555555556,
              "#d8576b"
             ],
             [
              0.6666666666666666,
              "#ed7953"
             ],
             [
              0.7777777777777778,
              "#fb9f3a"
             ],
             [
              0.8888888888888888,
              "#fdca26"
             ],
             [
              1,
              "#f0f921"
             ]
            ],
            "type": "surface"
           }
          ],
          "table": [
           {
            "cells": {
             "fill": {
              "color": "#EBF0F8"
             },
             "line": {
              "color": "white"
             }
            },
            "header": {
             "fill": {
              "color": "#C8D4E3"
             },
             "line": {
              "color": "white"
             }
            },
            "type": "table"
           }
          ]
         },
         "layout": {
          "annotationdefaults": {
           "arrowcolor": "#2a3f5f",
           "arrowhead": 0,
           "arrowwidth": 1
          },
          "autotypenumbers": "strict",
          "coloraxis": {
           "colorbar": {
            "outlinewidth": 0,
            "ticks": ""
           }
          },
          "colorscale": {
           "diverging": [
            [
             0,
             "#8e0152"
            ],
            [
             0.1,
             "#c51b7d"
            ],
            [
             0.2,
             "#de77ae"
            ],
            [
             0.3,
             "#f1b6da"
            ],
            [
             0.4,
             "#fde0ef"
            ],
            [
             0.5,
             "#f7f7f7"
            ],
            [
             0.6,
             "#e6f5d0"
            ],
            [
             0.7,
             "#b8e186"
            ],
            [
             0.8,
             "#7fbc41"
            ],
            [
             0.9,
             "#4d9221"
            ],
            [
             1,
             "#276419"
            ]
           ],
           "sequential": [
            [
             0,
             "#0d0887"
            ],
            [
             0.1111111111111111,
             "#46039f"
            ],
            [
             0.2222222222222222,
             "#7201a8"
            ],
            [
             0.3333333333333333,
             "#9c179e"
            ],
            [
             0.4444444444444444,
             "#bd3786"
            ],
            [
             0.5555555555555556,
             "#d8576b"
            ],
            [
             0.6666666666666666,
             "#ed7953"
            ],
            [
             0.7777777777777778,
             "#fb9f3a"
            ],
            [
             0.8888888888888888,
             "#fdca26"
            ],
            [
             1,
             "#f0f921"
            ]
           ],
           "sequentialminus": [
            [
             0,
             "#0d0887"
            ],
            [
             0.1111111111111111,
             "#46039f"
            ],
            [
             0.2222222222222222,
             "#7201a8"
            ],
            [
             0.3333333333333333,
             "#9c179e"
            ],
            [
             0.4444444444444444,
             "#bd3786"
            ],
            [
             0.5555555555555556,
             "#d8576b"
            ],
            [
             0.6666666666666666,
             "#ed7953"
            ],
            [
             0.7777777777777778,
             "#fb9f3a"
            ],
            [
             0.8888888888888888,
             "#fdca26"
            ],
            [
             1,
             "#f0f921"
            ]
           ]
          },
          "colorway": [
           "#636efa",
           "#EF553B",
           "#00cc96",
           "#ab63fa",
           "#FFA15A",
           "#19d3f3",
           "#FF6692",
           "#B6E880",
           "#FF97FF",
           "#FECB52"
          ],
          "font": {
           "color": "#2a3f5f"
          },
          "geo": {
           "bgcolor": "white",
           "lakecolor": "white",
           "landcolor": "#E5ECF6",
           "showlakes": true,
           "showland": true,
           "subunitcolor": "white"
          },
          "hoverlabel": {
           "align": "left"
          },
          "hovermode": "closest",
          "mapbox": {
           "style": "light"
          },
          "paper_bgcolor": "white",
          "plot_bgcolor": "#E5ECF6",
          "polar": {
           "angularaxis": {
            "gridcolor": "white",
            "linecolor": "white",
            "ticks": ""
           },
           "bgcolor": "#E5ECF6",
           "radialaxis": {
            "gridcolor": "white",
            "linecolor": "white",
            "ticks": ""
           }
          },
          "scene": {
           "xaxis": {
            "backgroundcolor": "#E5ECF6",
            "gridcolor": "white",
            "gridwidth": 2,
            "linecolor": "white",
            "showbackground": true,
            "ticks": "",
            "zerolinecolor": "white"
           },
           "yaxis": {
            "backgroundcolor": "#E5ECF6",
            "gridcolor": "white",
            "gridwidth": 2,
            "linecolor": "white",
            "showbackground": true,
            "ticks": "",
            "zerolinecolor": "white"
           },
           "zaxis": {
            "backgroundcolor": "#E5ECF6",
            "gridcolor": "white",
            "gridwidth": 2,
            "linecolor": "white",
            "showbackground": true,
            "ticks": "",
            "zerolinecolor": "white"
           }
          },
          "shapedefaults": {
           "line": {
            "color": "#2a3f5f"
           }
          },
          "ternary": {
           "aaxis": {
            "gridcolor": "white",
            "linecolor": "white",
            "ticks": ""
           },
           "baxis": {
            "gridcolor": "white",
            "linecolor": "white",
            "ticks": ""
           },
           "bgcolor": "#E5ECF6",
           "caxis": {
            "gridcolor": "white",
            "linecolor": "white",
            "ticks": ""
           }
          },
          "title": {
           "x": 0.05
          },
          "xaxis": {
           "automargin": true,
           "gridcolor": "white",
           "linecolor": "white",
           "ticks": "",
           "title": {
            "standoff": 15
           },
           "zerolinecolor": "white",
           "zerolinewidth": 2
          },
          "yaxis": {
           "automargin": true,
           "gridcolor": "white",
           "linecolor": "white",
           "ticks": "",
           "title": {
            "standoff": 15
           },
           "zerolinecolor": "white",
           "zerolinewidth": 2
          }
         }
        },
        "title": {
         "text": "<b>Experiences</b>",
         "x": 0.5
        },
        "xaxis": {
         "rangeselector": {
          "buttons": [
           {
            "count": 7,
            "label": "1w",
            "step": "day",
            "stepmode": "backward"
           },
           {
            "count": 1,
            "label": "1m",
            "step": "month",
            "stepmode": "backward"
           },
           {
            "count": 6,
            "label": "6m",
            "step": "month",
            "stepmode": "backward"
           },
           {
            "count": 1,
            "label": "YTD",
            "step": "year",
            "stepmode": "todate"
           },
           {
            "count": 1,
            "label": "1y",
            "step": "year",
            "stepmode": "backward"
           },
           {
            "step": "all"
           }
          ]
         },
         "showgrid": true,
         "type": "date",
         "zeroline": false
        },
        "yaxis": {
         "autorange": false,
         "range": [
          -1,
          16
         ],
         "showgrid": true,
         "ticktext": [
          "PR, Decoration & Documentation Division Head",
          "Assistant Lecture",
          "Moderator, Master of Ceremonies",
          "Master of Ceremonies",
          "Data Analyst",
          "Chief Executive",
          "Head of Event Division",
          "Treasurer",
          "Project Responsible",
          "Scientific Division Staff",
          "Awardee",
          "IT Trainee ",
          "Support Staff",
          "Team Associate",
          "Student"
         ],
         "tickvals": [
          0,
          1,
          2,
          3,
          4,
          5,
          6,
          7,
          8,
          9,
          10,
          11,
          12,
          13,
          14
         ],
         "zeroline": false
        }
       }
      }
     },
     "metadata": {},
     "output_type": "display_data"
    }
   ],
   "source": [
    "import plotly.figure_factory as ff\n",
    "brown1 = '#985646'\n",
    "brown2 = '#bf8859'\n",
    "brown3 = '#9c7d61'\n",
    "brown4 = '#b9735c'\n",
    "green1 = '#4f746c'\n",
    "green2 = '#79a99d'\n",
    "green3 = '#6d7961'\n",
    "blue1 = '#4b7784'\n",
    "blue2 = '#6ca2af'\n",
    "blue3 = '#a9bcc2'\n",
    "nude1 = '#9be7e78'\n",
    "nude2 = '#c3b4af'\n",
    "nude3 = '#ada08d'\n",
    "\n",
    "\n",
    "colors = {'Education': brown1,\n",
    "          'Work': brown2,\n",
    "          'Course': blue1,\n",
    "          'Organization': brown3,\n",
    "          'Activity': green3,\n",
    "          'Lecture': blue2}\n",
    "\n",
    "fig = ff.create_gantt(df_exp, colors=colors, index_col='Resource', show_colorbar=True,\n",
    "                      group_tasks=True, showgrid_x=True, showgrid_y=True)\n",
    "fig.update_layout(autosize=True, title='<b>Experiences</b>', title_x=0.5)\n",
    "fig.show()"
   ]
  },
  {
   "cell_type": "code",
   "execution_count": 124,
   "metadata": {},
   "outputs": [],
   "source": [
    "experience = pd.read_csv(\"data/experience.csv\", sep=';')\n",
    "skill = pd.read_csv(\"data/skill.csv\", sep=';')\n",
    "portfolio = pd.read_csv(\"data/portfolio.csv\", sep=';')\n",
    "certification = pd.read_csv(\"data/certification.csv\", sep=';')\n",
    "language = pd.read_csv(\"data/language.csv\", sep=';')"
   ]
  },
  {
   "cell_type": "code",
   "execution_count": 129,
   "metadata": {},
   "outputs": [
    {
     "name": "stdout",
     "output_type": "stream",
     "text": [
      "['University of Brawijaya' 'KKU-PSBM FMIPA University of Brawijaya'\n",
      " 'PT Utama Abadi Sejahtera' 'Sinarmas Mining'\n",
      " 'Indonesia Endowment Fund for Education Agency'\n",
      " 'Bogor Agricultural (IPB) University'\n",
      " 'TETRIS PROA x DQLab Professional Python for Data Science'\n",
      " 'The Professional Association of Postgraduate Statistics Students (Himpunan Profesi (HImpro) Pascasarjana Statistika)'\n",
      " 'Belajar Bareng (Collective Study)'\n",
      " 'Statistics on Training #1: Spatial Modeling on Data Area'\n",
      " 'Sparkling Ramadhan'\n",
      " 'Statistics on Training #2: Advanced Web Crawling & Web Scraping'\n",
      " 'Happiness Index of Depok Regency 2023'\n",
      " 'Happiness Index of Bekasi Regency 2023'\n",
      " 'Welcoming New Postgraduate Students'\n",
      " 'Web Seminar: Statistical Journals Publication and Writings'\n",
      " 'Multivariate Data Techniques' 'Statistics for Engineering'\n",
      " 'Closing Ceremony DTS TSA IPB x Kominfo RI' 'Text Analytics']\n",
      "['Student' 'Team Associate' 'Support Staff' 'IT Trainee ' 'Awardee'\n",
      " 'Scientific Division Staff' 'Project Responsible' 'Treasurer'\n",
      " 'Head of Event Division' 'Chief Executive' 'Data Analyst'\n",
      " 'Master of Ceremonies' 'Moderator, Master of Ceremonies'\n",
      " 'Assistant Lecture' 'PR, Decoration & Documentation Division Head']\n"
     ]
    },
    {
     "data": {
      "text/html": [
       "<div>\n",
       "<style scoped>\n",
       "    .dataframe tbody tr th:only-of-type {\n",
       "        vertical-align: middle;\n",
       "    }\n",
       "\n",
       "    .dataframe tbody tr th {\n",
       "        vertical-align: top;\n",
       "    }\n",
       "\n",
       "    .dataframe thead th {\n",
       "        text-align: right;\n",
       "    }\n",
       "</style>\n",
       "<table border=\"1\" class=\"dataframe\">\n",
       "  <thead>\n",
       "    <tr style=\"text-align: right;\">\n",
       "      <th></th>\n",
       "      <th>Order</th>\n",
       "      <th>Type</th>\n",
       "      <th>Organization</th>\n",
       "      <th>Position</th>\n",
       "      <th>Start</th>\n",
       "      <th>End</th>\n",
       "      <th>Duration (Year)</th>\n",
       "      <th>City</th>\n",
       "      <th>State</th>\n",
       "      <th>Association</th>\n",
       "      <th>Description</th>\n",
       "      <th>Tools</th>\n",
       "      <th>Hard Skill</th>\n",
       "      <th>Soft Skill</th>\n",
       "      <th>Category</th>\n",
       "      <th>Start_MY</th>\n",
       "      <th>End_MY</th>\n",
       "    </tr>\n",
       "  </thead>\n",
       "  <tbody>\n",
       "    <tr>\n",
       "      <th>0</th>\n",
       "      <td>1</td>\n",
       "      <td>Education</td>\n",
       "      <td>University of Brawijaya</td>\n",
       "      <td>Student</td>\n",
       "      <td>2017-08-19</td>\n",
       "      <td>2021-04-08</td>\n",
       "      <td>3.583333</td>\n",
       "      <td>Malang</td>\n",
       "      <td>Indonesia</td>\n",
       "      <td>['-']</td>\n",
       "      <td>Bachelor Degree with GPA 3.91.\\nActivities and...</td>\n",
       "      <td>['Microsoft Office', ' R', ' Python', ' Window...</td>\n",
       "      <td>['Programming', ' Statistical Analysis', ' Sur...</td>\n",
       "      <td>['Team Work', ' Time Management', ' Communicat...</td>\n",
       "      <td>Related to Job</td>\n",
       "      <td>08-2017</td>\n",
       "      <td>04-2021</td>\n",
       "    </tr>\n",
       "    <tr>\n",
       "      <th>19</th>\n",
       "      <td>20</td>\n",
       "      <td>Lecture</td>\n",
       "      <td>Text Analytics</td>\n",
       "      <td>Assistant Lecture</td>\n",
       "      <td>2024-01-19</td>\n",
       "      <td>2024-06-27</td>\n",
       "      <td>0.416667</td>\n",
       "      <td>Bogor</td>\n",
       "      <td>Indonesia</td>\n",
       "      <td>['Bogor Agricultural (IPB) University']</td>\n",
       "      <td>A class for Master Degree of Statistics and Da...</td>\n",
       "      <td>['Python', ' Pytorch', ' Tensorflow', ' Keras'...</td>\n",
       "      <td>['Natural Language Processing', ' Text Analysi...</td>\n",
       "      <td>['Public Speaking', ' Leadership', ' Communica...</td>\n",
       "      <td>Related to Job</td>\n",
       "      <td>01-2024</td>\n",
       "      <td>06-2024</td>\n",
       "    </tr>\n",
       "  </tbody>\n",
       "</table>\n",
       "</div>"
      ],
      "text/plain": [
       "    Order       Type             Organization           Position       Start  \\\n",
       "0       1  Education  University of Brawijaya            Student  2017-08-19   \n",
       "19     20    Lecture           Text Analytics  Assistant Lecture  2024-01-19   \n",
       "\n",
       "           End  Duration (Year)   City       State  \\\n",
       "0   2021-04-08         3.583333  Malang  Indonesia   \n",
       "19  2024-06-27         0.416667   Bogor  Indonesia   \n",
       "\n",
       "                                Association  \\\n",
       "0                                     ['-']   \n",
       "19  ['Bogor Agricultural (IPB) University']   \n",
       "\n",
       "                                          Description  \\\n",
       "0   Bachelor Degree with GPA 3.91.\\nActivities and...   \n",
       "19  A class for Master Degree of Statistics and Da...   \n",
       "\n",
       "                                                Tools  \\\n",
       "0   ['Microsoft Office', ' R', ' Python', ' Window...   \n",
       "19  ['Python', ' Pytorch', ' Tensorflow', ' Keras'...   \n",
       "\n",
       "                                           Hard Skill  \\\n",
       "0   ['Programming', ' Statistical Analysis', ' Sur...   \n",
       "19  ['Natural Language Processing', ' Text Analysi...   \n",
       "\n",
       "                                           Soft Skill        Category  \\\n",
       "0   ['Team Work', ' Time Management', ' Communicat...  Related to Job   \n",
       "19  ['Public Speaking', ' Leadership', ' Communica...  Related to Job   \n",
       "\n",
       "   Start_MY   End_MY  \n",
       "0   08-2017  04-2021  \n",
       "19  01-2024  06-2024  "
      ]
     },
     "execution_count": 129,
     "metadata": {},
     "output_type": "execute_result"
    }
   ],
   "source": [
    "print(experience['Organization'].unique())\n",
    "print(experience['Position'].unique())\n",
    "experience[experience['Organization'].isin(['University of Brawijaya', 'Text Analytics'])]"
   ]
  },
  {
   "cell_type": "code",
   "execution_count": 133,
   "metadata": {},
   "outputs": [
    {
     "data": {
      "text/plain": [
       "str"
      ]
     },
     "execution_count": 133,
     "metadata": {},
     "output_type": "execute_result"
    }
   ],
   "source": [
    "type(experience.loc[1, 'Soft Skill'])"
   ]
  },
  {
   "cell_type": "code",
   "execution_count": 167,
   "metadata": {},
   "outputs": [
    {
     "data": {
      "text/plain": [
       "Index(['Activity', 'Course', 'Education', 'Lecture', 'Organization', 'Work'], dtype='object', name='Type')"
      ]
     },
     "execution_count": 167,
     "metadata": {},
     "output_type": "execute_result"
    }
   ],
   "source": [
    "experience.groupby(['Type'])['Duration (Year)'].sum().index\n",
    "# experience.groupby(['Organization'])['Duration (Year)'].sum()\n",
    "# experience.groupby(['Organization'])['Duration (Year)'].sum()"
   ]
  },
  {
   "cell_type": "code",
   "execution_count": 153,
   "metadata": {},
   "outputs": [],
   "source": [
    "def diff_month(d1, d2):\n",
    "    return (d1.year - d2.year) * 12 + d1.month - d2.month"
   ]
  },
  {
   "cell_type": "code",
   "execution_count": 237,
   "metadata": {},
   "outputs": [
    {
     "data": {
      "text/plain": [
       "Index(['Order', 'Type', 'Organization', 'Position', 'Start', 'End',\n",
       "       'Duration (Year)', 'City ', 'State', 'Association', 'Description',\n",
       "       'Tools', 'Hard Skill', 'Soft Skill', 'Category', 'Duration (Month)'],\n",
       "      dtype='object')"
      ]
     },
     "execution_count": 237,
     "metadata": {},
     "output_type": "execute_result"
    }
   ],
   "source": [
    "dats.columns"
   ]
  },
  {
   "cell_type": "code",
   "execution_count": 238,
   "metadata": {},
   "outputs": [
    {
     "data": {
      "text/html": [
       "<div>\n",
       "<style scoped>\n",
       "    .dataframe tbody tr th:only-of-type {\n",
       "        vertical-align: middle;\n",
       "    }\n",
       "\n",
       "    .dataframe tbody tr th {\n",
       "        vertical-align: top;\n",
       "    }\n",
       "\n",
       "    .dataframe thead th {\n",
       "        text-align: right;\n",
       "    }\n",
       "</style>\n",
       "<table border=\"1\" class=\"dataframe\">\n",
       "  <thead>\n",
       "    <tr style=\"text-align: right;\">\n",
       "      <th></th>\n",
       "      <th>Type</th>\n",
       "      <th>Name</th>\n",
       "      <th>Expertise Level (out of 5)</th>\n",
       "      <th>Star</th>\n",
       "      <th>First Use</th>\n",
       "      <th>Latest Use</th>\n",
       "      <th>Years of Experience</th>\n",
       "      <th>Associated with</th>\n",
       "    </tr>\n",
       "  </thead>\n",
       "  <tbody>\n",
       "    <tr>\n",
       "      <th>0</th>\n",
       "      <td>Programming Language</td>\n",
       "      <td>R</td>\n",
       "      <td>5</td>\n",
       "      <td>5</td>\n",
       "      <td>2018-01-01</td>\n",
       "      <td>2024-06-29 03:09:17.280</td>\n",
       "      <td>6.416667</td>\n",
       "      <td>University of Brawijaya, Bogor Agricultural (I...</td>\n",
       "    </tr>\n",
       "    <tr>\n",
       "      <th>1</th>\n",
       "      <td>Programming Language</td>\n",
       "      <td>Python</td>\n",
       "      <td>5</td>\n",
       "      <td>5</td>\n",
       "      <td>2019-01-01</td>\n",
       "      <td>2024-06-29 03:09:17.280</td>\n",
       "      <td>5.416667</td>\n",
       "      <td>University of Brawijaya, Bogor Agricultural (I...</td>\n",
       "    </tr>\n",
       "    <tr>\n",
       "      <th>2</th>\n",
       "      <td>Dashboard</td>\n",
       "      <td>RShiny</td>\n",
       "      <td>4</td>\n",
       "      <td>4</td>\n",
       "      <td>2021-01-01</td>\n",
       "      <td>2024-06-29 03:09:17.280</td>\n",
       "      <td>3.416667</td>\n",
       "      <td>Bogor Agricultural (IPB) University</td>\n",
       "    </tr>\n",
       "    <tr>\n",
       "      <th>3</th>\n",
       "      <td>Dashboard</td>\n",
       "      <td>Streamlit</td>\n",
       "      <td>4</td>\n",
       "      <td>4</td>\n",
       "      <td>2022-06-01</td>\n",
       "      <td>2024-06-29 03:09:17.280</td>\n",
       "      <td>2.000000</td>\n",
       "      <td>Bogor Agricultural (IPB) University</td>\n",
       "    </tr>\n",
       "    <tr>\n",
       "      <th>4</th>\n",
       "      <td>Dashboard</td>\n",
       "      <td>Tableau</td>\n",
       "      <td>3</td>\n",
       "      <td>3</td>\n",
       "      <td>2024-01-01</td>\n",
       "      <td>2024-06-29 03:09:17.280</td>\n",
       "      <td>0.416667</td>\n",
       "      <td>Bogor Agricultural (IPB) University</td>\n",
       "    </tr>\n",
       "    <tr>\n",
       "      <th>5</th>\n",
       "      <td>Database System</td>\n",
       "      <td>SQL</td>\n",
       "      <td>4</td>\n",
       "      <td>4</td>\n",
       "      <td>2019-01-01</td>\n",
       "      <td>2024-01-01 00:00:00.000</td>\n",
       "      <td>5.000000</td>\n",
       "      <td>University of Brawijaya, Bogor Agricultural (I...</td>\n",
       "    </tr>\n",
       "    <tr>\n",
       "      <th>6</th>\n",
       "      <td>Database System</td>\n",
       "      <td>MySQL</td>\n",
       "      <td>4</td>\n",
       "      <td>4</td>\n",
       "      <td>2021-11-01</td>\n",
       "      <td>2022-03-01 00:00:00.000</td>\n",
       "      <td>0.333333</td>\n",
       "      <td>Sinarmas Mining</td>\n",
       "    </tr>\n",
       "    <tr>\n",
       "      <th>7</th>\n",
       "      <td>Database System</td>\n",
       "      <td>NoSQL (MongoDB)</td>\n",
       "      <td>4</td>\n",
       "      <td>4</td>\n",
       "      <td>2023-01-01</td>\n",
       "      <td>2023-08-01 00:00:00.000</td>\n",
       "      <td>0.583333</td>\n",
       "      <td>Bogor Agricultural (IPB) University</td>\n",
       "    </tr>\n",
       "    <tr>\n",
       "      <th>8</th>\n",
       "      <td>Database System</td>\n",
       "      <td>PosgtreSQL</td>\n",
       "      <td>4</td>\n",
       "      <td>4</td>\n",
       "      <td>2021-11-01</td>\n",
       "      <td>2023-08-01 00:00:00.000</td>\n",
       "      <td>1.750000</td>\n",
       "      <td>Sinarmas Mining, Bogor Agricultural (IPB) Univ...</td>\n",
       "    </tr>\n",
       "    <tr>\n",
       "      <th>9</th>\n",
       "      <td>Other</td>\n",
       "      <td>Microsoft Excel</td>\n",
       "      <td>5</td>\n",
       "      <td>5</td>\n",
       "      <td>2014-07-01</td>\n",
       "      <td>2024-06-29 03:09:17.280</td>\n",
       "      <td>9.916667</td>\n",
       "      <td>University of Brawijaya, Bogor Agricultural (I...</td>\n",
       "    </tr>\n",
       "    <tr>\n",
       "      <th>10</th>\n",
       "      <td>Programming Language</td>\n",
       "      <td>Go</td>\n",
       "      <td>1</td>\n",
       "      <td>1</td>\n",
       "      <td>2021-11-01</td>\n",
       "      <td>2022-03-01 00:00:00.000</td>\n",
       "      <td>0.333333</td>\n",
       "      <td>Sinarmas Mining</td>\n",
       "    </tr>\n",
       "    <tr>\n",
       "      <th>11</th>\n",
       "      <td>Programming Language</td>\n",
       "      <td>JavaScript</td>\n",
       "      <td>2</td>\n",
       "      <td>2</td>\n",
       "      <td>2021-11-02</td>\n",
       "      <td>2022-03-02 00:00:00.000</td>\n",
       "      <td>0.333333</td>\n",
       "      <td>Sinarmas Mining</td>\n",
       "    </tr>\n",
       "    <tr>\n",
       "      <th>12</th>\n",
       "      <td>Programming Language</td>\n",
       "      <td>ReactJS</td>\n",
       "      <td>1</td>\n",
       "      <td>1</td>\n",
       "      <td>2021-11-03</td>\n",
       "      <td>2022-03-03 00:00:00.000</td>\n",
       "      <td>0.333333</td>\n",
       "      <td>Sinarmas Mining</td>\n",
       "    </tr>\n",
       "    <tr>\n",
       "      <th>13</th>\n",
       "      <td>Other</td>\n",
       "      <td>HTML</td>\n",
       "      <td>3</td>\n",
       "      <td>3</td>\n",
       "      <td>2021-11-04</td>\n",
       "      <td>2022-05-01 00:00:00.000</td>\n",
       "      <td>0.416667</td>\n",
       "      <td>Sinarmas Mining</td>\n",
       "    </tr>\n",
       "    <tr>\n",
       "      <th>14</th>\n",
       "      <td>Other</td>\n",
       "      <td>CSS</td>\n",
       "      <td>3</td>\n",
       "      <td>3</td>\n",
       "      <td>2021-11-05</td>\n",
       "      <td>2022-05-02 00:00:00.000</td>\n",
       "      <td>0.416667</td>\n",
       "      <td>Sinarmas Mining</td>\n",
       "    </tr>\n",
       "    <tr>\n",
       "      <th>15</th>\n",
       "      <td>Library</td>\n",
       "      <td>Tensorflow</td>\n",
       "      <td>4</td>\n",
       "      <td>4</td>\n",
       "      <td>2023-02-01</td>\n",
       "      <td>2024-06-01 00:00:00.000</td>\n",
       "      <td>1.333333</td>\n",
       "      <td>Bogor Agricultural (IPB) University</td>\n",
       "    </tr>\n",
       "    <tr>\n",
       "      <th>16</th>\n",
       "      <td>Library</td>\n",
       "      <td>Pytorch</td>\n",
       "      <td>4</td>\n",
       "      <td>4</td>\n",
       "      <td>2023-02-02</td>\n",
       "      <td>2024-06-02 00:00:00.000</td>\n",
       "      <td>1.333333</td>\n",
       "      <td>Bogor Agricultural (IPB) University</td>\n",
       "    </tr>\n",
       "    <tr>\n",
       "      <th>17</th>\n",
       "      <td>Library</td>\n",
       "      <td>Keras</td>\n",
       "      <td>4</td>\n",
       "      <td>4</td>\n",
       "      <td>2022-08-01</td>\n",
       "      <td>2024-06-01 00:00:00.000</td>\n",
       "      <td>1.833333</td>\n",
       "      <td>Bogor Agricultural (IPB) University</td>\n",
       "    </tr>\n",
       "    <tr>\n",
       "      <th>18</th>\n",
       "      <td>Other</td>\n",
       "      <td>Canva</td>\n",
       "      <td>4</td>\n",
       "      <td>4</td>\n",
       "      <td>2021-01-01</td>\n",
       "      <td>2024-06-29 03:09:17.280</td>\n",
       "      <td>3.416667</td>\n",
       "      <td>University of Brawijaya, Bogor Agricultural (I...</td>\n",
       "    </tr>\n",
       "    <tr>\n",
       "      <th>19</th>\n",
       "      <td>Version Control</td>\n",
       "      <td>Git</td>\n",
       "      <td>4</td>\n",
       "      <td>4</td>\n",
       "      <td>2021-11-01</td>\n",
       "      <td>2024-06-29 03:09:17.280</td>\n",
       "      <td>2.583333</td>\n",
       "      <td>Sinarmas Mining, Bogor Agricultural (IPB) Univ...</td>\n",
       "    </tr>\n",
       "    <tr>\n",
       "      <th>20</th>\n",
       "      <td>Version Control</td>\n",
       "      <td>Git Actions</td>\n",
       "      <td>4</td>\n",
       "      <td>4</td>\n",
       "      <td>2023-01-01</td>\n",
       "      <td>2023-07-01 00:00:00.000</td>\n",
       "      <td>0.500000</td>\n",
       "      <td>Bogor Agricultural (IPB) University</td>\n",
       "    </tr>\n",
       "    <tr>\n",
       "      <th>21</th>\n",
       "      <td>Library</td>\n",
       "      <td>BeautifulSoup</td>\n",
       "      <td>4</td>\n",
       "      <td>4</td>\n",
       "      <td>2023-01-01</td>\n",
       "      <td>2024-06-01 00:00:00.000</td>\n",
       "      <td>1.416667</td>\n",
       "      <td>Bogor Agricultural (IPB) University</td>\n",
       "    </tr>\n",
       "    <tr>\n",
       "      <th>22</th>\n",
       "      <td>Library</td>\n",
       "      <td>Requests</td>\n",
       "      <td>4</td>\n",
       "      <td>4</td>\n",
       "      <td>2023-01-01</td>\n",
       "      <td>2024-06-29 03:09:17.280</td>\n",
       "      <td>1.416667</td>\n",
       "      <td>Bogor Agricultural (IPB) University</td>\n",
       "    </tr>\n",
       "    <tr>\n",
       "      <th>23</th>\n",
       "      <td>Library</td>\n",
       "      <td>Plotly</td>\n",
       "      <td>4</td>\n",
       "      <td>4</td>\n",
       "      <td>2022-07-01</td>\n",
       "      <td>2024-06-29 03:09:17.280</td>\n",
       "      <td>1.916667</td>\n",
       "      <td>Bogor Agricultural (IPB) University</td>\n",
       "    </tr>\n",
       "    <tr>\n",
       "      <th>24</th>\n",
       "      <td>Library</td>\n",
       "      <td>Sklearn</td>\n",
       "      <td>4</td>\n",
       "      <td>4</td>\n",
       "      <td>2022-08-01</td>\n",
       "      <td>2024-06-29 03:09:17.280</td>\n",
       "      <td>1.833333</td>\n",
       "      <td>University of Brawijaya, Bogor Agricultural (I...</td>\n",
       "    </tr>\n",
       "    <tr>\n",
       "      <th>25</th>\n",
       "      <td>Library</td>\n",
       "      <td>Numpy</td>\n",
       "      <td>5</td>\n",
       "      <td>5</td>\n",
       "      <td>2019-01-01</td>\n",
       "      <td>2024-06-29 03:09:17.280</td>\n",
       "      <td>5.416667</td>\n",
       "      <td>University of Brawijaya, Bogor Agricultural (I...</td>\n",
       "    </tr>\n",
       "    <tr>\n",
       "      <th>26</th>\n",
       "      <td>Library</td>\n",
       "      <td>Scipy</td>\n",
       "      <td>4</td>\n",
       "      <td>4</td>\n",
       "      <td>2023-01-01</td>\n",
       "      <td>2024-06-29 03:09:17.280</td>\n",
       "      <td>1.416667</td>\n",
       "      <td>Bogor Agricultural (IPB) University</td>\n",
       "    </tr>\n",
       "    <tr>\n",
       "      <th>27</th>\n",
       "      <td>Library</td>\n",
       "      <td>Matplotlib</td>\n",
       "      <td>4</td>\n",
       "      <td>4</td>\n",
       "      <td>2022-06-01</td>\n",
       "      <td>2024-06-29 03:09:17.280</td>\n",
       "      <td>2.000000</td>\n",
       "      <td>University of Brawijaya, Bogor Agricultural (I...</td>\n",
       "    </tr>\n",
       "    <tr>\n",
       "      <th>28</th>\n",
       "      <td>Library</td>\n",
       "      <td>Pandas</td>\n",
       "      <td>5</td>\n",
       "      <td>5</td>\n",
       "      <td>2024-01-01</td>\n",
       "      <td>2024-06-29 03:09:17.280</td>\n",
       "      <td>0.416667</td>\n",
       "      <td>University of Brawijaya, Bogor Agricultural (I...</td>\n",
       "    </tr>\n",
       "    <tr>\n",
       "      <th>29</th>\n",
       "      <td>Operating System</td>\n",
       "      <td>Linux OS</td>\n",
       "      <td>4</td>\n",
       "      <td>4</td>\n",
       "      <td>2021-11-01</td>\n",
       "      <td>2022-03-01 00:00:00.000</td>\n",
       "      <td>0.333333</td>\n",
       "      <td>Sinarmas Mining</td>\n",
       "    </tr>\n",
       "    <tr>\n",
       "      <th>30</th>\n",
       "      <td>Operating System</td>\n",
       "      <td>Mac OS</td>\n",
       "      <td>5</td>\n",
       "      <td>5</td>\n",
       "      <td>2022-10-01</td>\n",
       "      <td>2024-06-29 03:09:17.280</td>\n",
       "      <td>1.666667</td>\n",
       "      <td>Bogor Agricultural (IPB) University</td>\n",
       "    </tr>\n",
       "    <tr>\n",
       "      <th>31</th>\n",
       "      <td>Operating System</td>\n",
       "      <td>Windows OS</td>\n",
       "      <td>5</td>\n",
       "      <td>5</td>\n",
       "      <td>2017-08-01</td>\n",
       "      <td>2024-06-29 03:09:17.280</td>\n",
       "      <td>6.833333</td>\n",
       "      <td>University of Brawijaya, Bogor Agricultural (I...</td>\n",
       "    </tr>\n",
       "    <tr>\n",
       "      <th>32</th>\n",
       "      <td>Other</td>\n",
       "      <td>API</td>\n",
       "      <td>4</td>\n",
       "      <td>4</td>\n",
       "      <td>2022-06-01</td>\n",
       "      <td>2024-06-29 03:09:17.280</td>\n",
       "      <td>2.000000</td>\n",
       "      <td>Bogor Agricultural (IPB) University</td>\n",
       "    </tr>\n",
       "  </tbody>\n",
       "</table>\n",
       "</div>"
      ],
      "text/plain": [
       "                    Type             Name  Expertise Level (out of 5)  Star  \\\n",
       "0   Programming Language                R                           5     5   \n",
       "1   Programming Language           Python                           5     5   \n",
       "2              Dashboard           RShiny                           4     4   \n",
       "3              Dashboard        Streamlit                           4     4   \n",
       "4              Dashboard          Tableau                           3     3   \n",
       "5        Database System              SQL                           4     4   \n",
       "6        Database System            MySQL                           4     4   \n",
       "7        Database System  NoSQL (MongoDB)                           4     4   \n",
       "8        Database System       PosgtreSQL                           4     4   \n",
       "9                  Other  Microsoft Excel                           5     5   \n",
       "10  Programming Language               Go                           1     1   \n",
       "11  Programming Language       JavaScript                           2     2   \n",
       "12  Programming Language          ReactJS                           1     1   \n",
       "13                 Other             HTML                           3     3   \n",
       "14                 Other              CSS                           3     3   \n",
       "15               Library       Tensorflow                           4     4   \n",
       "16               Library          Pytorch                           4     4   \n",
       "17               Library            Keras                           4     4   \n",
       "18                 Other            Canva                           4     4   \n",
       "19       Version Control              Git                           4     4   \n",
       "20       Version Control      Git Actions                           4     4   \n",
       "21               Library    BeautifulSoup                           4     4   \n",
       "22               Library         Requests                           4     4   \n",
       "23               Library           Plotly                           4     4   \n",
       "24               Library          Sklearn                           4     4   \n",
       "25               Library            Numpy                           5     5   \n",
       "26               Library            Scipy                           4     4   \n",
       "27               Library       Matplotlib                           4     4   \n",
       "28               Library           Pandas                           5     5   \n",
       "29      Operating System         Linux OS                           4     4   \n",
       "30      Operating System           Mac OS                           5     5   \n",
       "31      Operating System       Windows OS                           5     5   \n",
       "32                 Other              API                           4     4   \n",
       "\n",
       "    First Use              Latest Use  Years of Experience  \\\n",
       "0  2018-01-01 2024-06-29 03:09:17.280             6.416667   \n",
       "1  2019-01-01 2024-06-29 03:09:17.280             5.416667   \n",
       "2  2021-01-01 2024-06-29 03:09:17.280             3.416667   \n",
       "3  2022-06-01 2024-06-29 03:09:17.280             2.000000   \n",
       "4  2024-01-01 2024-06-29 03:09:17.280             0.416667   \n",
       "5  2019-01-01 2024-01-01 00:00:00.000             5.000000   \n",
       "6  2021-11-01 2022-03-01 00:00:00.000             0.333333   \n",
       "7  2023-01-01 2023-08-01 00:00:00.000             0.583333   \n",
       "8  2021-11-01 2023-08-01 00:00:00.000             1.750000   \n",
       "9  2014-07-01 2024-06-29 03:09:17.280             9.916667   \n",
       "10 2021-11-01 2022-03-01 00:00:00.000             0.333333   \n",
       "11 2021-11-02 2022-03-02 00:00:00.000             0.333333   \n",
       "12 2021-11-03 2022-03-03 00:00:00.000             0.333333   \n",
       "13 2021-11-04 2022-05-01 00:00:00.000             0.416667   \n",
       "14 2021-11-05 2022-05-02 00:00:00.000             0.416667   \n",
       "15 2023-02-01 2024-06-01 00:00:00.000             1.333333   \n",
       "16 2023-02-02 2024-06-02 00:00:00.000             1.333333   \n",
       "17 2022-08-01 2024-06-01 00:00:00.000             1.833333   \n",
       "18 2021-01-01 2024-06-29 03:09:17.280             3.416667   \n",
       "19 2021-11-01 2024-06-29 03:09:17.280             2.583333   \n",
       "20 2023-01-01 2023-07-01 00:00:00.000             0.500000   \n",
       "21 2023-01-01 2024-06-01 00:00:00.000             1.416667   \n",
       "22 2023-01-01 2024-06-29 03:09:17.280             1.416667   \n",
       "23 2022-07-01 2024-06-29 03:09:17.280             1.916667   \n",
       "24 2022-08-01 2024-06-29 03:09:17.280             1.833333   \n",
       "25 2019-01-01 2024-06-29 03:09:17.280             5.416667   \n",
       "26 2023-01-01 2024-06-29 03:09:17.280             1.416667   \n",
       "27 2022-06-01 2024-06-29 03:09:17.280             2.000000   \n",
       "28 2024-01-01 2024-06-29 03:09:17.280             0.416667   \n",
       "29 2021-11-01 2022-03-01 00:00:00.000             0.333333   \n",
       "30 2022-10-01 2024-06-29 03:09:17.280             1.666667   \n",
       "31 2017-08-01 2024-06-29 03:09:17.280             6.833333   \n",
       "32 2022-06-01 2024-06-29 03:09:17.280             2.000000   \n",
       "\n",
       "                                      Associated with  \n",
       "0   University of Brawijaya, Bogor Agricultural (I...  \n",
       "1   University of Brawijaya, Bogor Agricultural (I...  \n",
       "2                 Bogor Agricultural (IPB) University  \n",
       "3                 Bogor Agricultural (IPB) University  \n",
       "4                 Bogor Agricultural (IPB) University  \n",
       "5   University of Brawijaya, Bogor Agricultural (I...  \n",
       "6                                     Sinarmas Mining  \n",
       "7                 Bogor Agricultural (IPB) University  \n",
       "8   Sinarmas Mining, Bogor Agricultural (IPB) Univ...  \n",
       "9   University of Brawijaya, Bogor Agricultural (I...  \n",
       "10                                    Sinarmas Mining  \n",
       "11                                    Sinarmas Mining  \n",
       "12                                    Sinarmas Mining  \n",
       "13                                    Sinarmas Mining  \n",
       "14                                    Sinarmas Mining  \n",
       "15                Bogor Agricultural (IPB) University  \n",
       "16                Bogor Agricultural (IPB) University  \n",
       "17                Bogor Agricultural (IPB) University  \n",
       "18  University of Brawijaya, Bogor Agricultural (I...  \n",
       "19  Sinarmas Mining, Bogor Agricultural (IPB) Univ...  \n",
       "20                Bogor Agricultural (IPB) University  \n",
       "21                Bogor Agricultural (IPB) University  \n",
       "22                Bogor Agricultural (IPB) University  \n",
       "23                Bogor Agricultural (IPB) University  \n",
       "24  University of Brawijaya, Bogor Agricultural (I...  \n",
       "25  University of Brawijaya, Bogor Agricultural (I...  \n",
       "26                Bogor Agricultural (IPB) University  \n",
       "27  University of Brawijaya, Bogor Agricultural (I...  \n",
       "28  University of Brawijaya, Bogor Agricultural (I...  \n",
       "29                                    Sinarmas Mining  \n",
       "30                Bogor Agricultural (IPB) University  \n",
       "31  University of Brawijaya, Bogor Agricultural (I...  \n",
       "32                Bogor Agricultural (IPB) University  "
      ]
     },
     "execution_count": 238,
     "metadata": {},
     "output_type": "execute_result"
    }
   ],
   "source": [
    "skill"
   ]
  },
  {
   "cell_type": "code",
   "execution_count": 239,
   "metadata": {},
   "outputs": [
    {
     "data": {
      "text/plain": [
       "Index(['Type', 'Name', 'Skill', 'Tools', 'Method', 'Date', 'Associated with',\n",
       "       'Link', 'Status'],\n",
       "      dtype='object')"
      ]
     },
     "execution_count": 239,
     "metadata": {},
     "output_type": "execute_result"
    }
   ],
   "source": [
    "portfolio.columns"
   ]
  },
  {
   "cell_type": "code",
   "execution_count": 268,
   "metadata": {},
   "outputs": [
    {
     "data": {
      "application/vnd.plotly.v1+json": {
       "config": {
        "plotlyServerURL": "https://plot.ly"
       },
       "data": [
        {
         "customdata": [
          [
           "2018-01-01T00:00:00",
           "2024-06-29T03:09:17.280000",
           "Programming Language",
           "University of Brawijaya, Bogor Agricultural (IPB) University"
          ],
          [
           "2019-01-01T00:00:00",
           "2024-06-29T03:09:17.280000",
           "Programming Language",
           "University of Brawijaya, Bogor Agricultural (IPB) University"
          ],
          [
           "2021-11-01T00:00:00",
           "2022-03-01T00:00:00",
           "Programming Language",
           "Sinarmas Mining"
          ],
          [
           "2021-11-02T00:00:00",
           "2022-03-02T00:00:00",
           "Programming Language",
           "Sinarmas Mining"
          ],
          [
           "2021-11-03T00:00:00",
           "2022-03-03T00:00:00",
           "Programming Language",
           "Sinarmas Mining"
          ]
         ],
         "hovertemplate": "<b>%{customdata[2]}: </b> %{x} with expertise %{y} out of 5<br><b>First Usage:</b>:%{customdata[0]}<br><b>Association:</b>%{customdata[3]}",
         "marker": {
          "color": "brown"
         },
         "name": "Level",
         "offsetgroup": "1",
         "type": "bar",
         "x": [
          "R",
          "Python",
          "Go",
          "JavaScript",
          "ReactJS"
         ],
         "y": [
          5,
          5,
          4,
          4,
          3,
          4,
          4,
          4,
          4,
          5,
          1,
          2,
          1,
          3,
          3,
          4,
          4,
          4,
          4,
          4,
          4,
          4,
          4,
          4,
          4,
          5,
          4,
          4,
          5,
          4,
          5,
          5,
          4
         ],
         "yaxis": "y"
        },
        {
         "customdata": [
          [
           "2018-01-01T00:00:00",
           "2024-06-29T03:09:17.280000",
           "Programming Language",
           "University of Brawijaya, Bogor Agricultural (IPB) University"
          ],
          [
           "2019-01-01T00:00:00",
           "2024-06-29T03:09:17.280000",
           "Programming Language",
           "University of Brawijaya, Bogor Agricultural (IPB) University"
          ],
          [
           "2021-11-01T00:00:00",
           "2022-03-01T00:00:00",
           "Programming Language",
           "Sinarmas Mining"
          ],
          [
           "2021-11-02T00:00:00",
           "2022-03-02T00:00:00",
           "Programming Language",
           "Sinarmas Mining"
          ],
          [
           "2021-11-03T00:00:00",
           "2022-03-03T00:00:00",
           "Programming Language",
           "Sinarmas Mining"
          ]
         ],
         "hovertemplate": "<b>%{customdata[2]}: </b>%{x} with usage %{y} year(s)<br><b>First Usage:</b>:%{customdata[0]}<br><b>Association:</b>%{customdata[3]}",
         "marker": {
          "color": "darkSlateGrey"
         },
         "name": "YoE",
         "offsetgroup": "2",
         "type": "bar",
         "x": [
          "R",
          "Python",
          "Go",
          "JavaScript",
          "ReactJS"
         ],
         "y": [
          6.416666667,
          5.416666667,
          3.416666667,
          2,
          0.4166666667,
          5,
          0.3333333333,
          0.5833333333,
          1.75,
          9.916666667,
          0.3333333333,
          0.3333333333,
          0.3333333333,
          0.4166666667,
          0.4166666667,
          1.333333333,
          1.333333333,
          1.833333333,
          3.416666667,
          2.583333333,
          0.5,
          1.416666667,
          1.416666667,
          1.916666667,
          1.833333333,
          5.416666667,
          1.416666667,
          2,
          0.4166666667,
          0.3333333333,
          1.666666667,
          6.833333333,
          2
         ],
         "yaxis": "y2"
        }
       ],
       "layout": {
        "barmode": "group",
        "template": {
         "data": {
          "bar": [
           {
            "error_x": {
             "color": "#2a3f5f"
            },
            "error_y": {
             "color": "#2a3f5f"
            },
            "marker": {
             "line": {
              "color": "#E5ECF6",
              "width": 0.5
             },
             "pattern": {
              "fillmode": "overlay",
              "size": 10,
              "solidity": 0.2
             }
            },
            "type": "bar"
           }
          ],
          "barpolar": [
           {
            "marker": {
             "line": {
              "color": "#E5ECF6",
              "width": 0.5
             },
             "pattern": {
              "fillmode": "overlay",
              "size": 10,
              "solidity": 0.2
             }
            },
            "type": "barpolar"
           }
          ],
          "carpet": [
           {
            "aaxis": {
             "endlinecolor": "#2a3f5f",
             "gridcolor": "white",
             "linecolor": "white",
             "minorgridcolor": "white",
             "startlinecolor": "#2a3f5f"
            },
            "baxis": {
             "endlinecolor": "#2a3f5f",
             "gridcolor": "white",
             "linecolor": "white",
             "minorgridcolor": "white",
             "startlinecolor": "#2a3f5f"
            },
            "type": "carpet"
           }
          ],
          "choropleth": [
           {
            "colorbar": {
             "outlinewidth": 0,
             "ticks": ""
            },
            "type": "choropleth"
           }
          ],
          "contour": [
           {
            "colorbar": {
             "outlinewidth": 0,
             "ticks": ""
            },
            "colorscale": [
             [
              0,
              "#0d0887"
             ],
             [
              0.1111111111111111,
              "#46039f"
             ],
             [
              0.2222222222222222,
              "#7201a8"
             ],
             [
              0.3333333333333333,
              "#9c179e"
             ],
             [
              0.4444444444444444,
              "#bd3786"
             ],
             [
              0.5555555555555556,
              "#d8576b"
             ],
             [
              0.6666666666666666,
              "#ed7953"
             ],
             [
              0.7777777777777778,
              "#fb9f3a"
             ],
             [
              0.8888888888888888,
              "#fdca26"
             ],
             [
              1,
              "#f0f921"
             ]
            ],
            "type": "contour"
           }
          ],
          "contourcarpet": [
           {
            "colorbar": {
             "outlinewidth": 0,
             "ticks": ""
            },
            "type": "contourcarpet"
           }
          ],
          "heatmap": [
           {
            "colorbar": {
             "outlinewidth": 0,
             "ticks": ""
            },
            "colorscale": [
             [
              0,
              "#0d0887"
             ],
             [
              0.1111111111111111,
              "#46039f"
             ],
             [
              0.2222222222222222,
              "#7201a8"
             ],
             [
              0.3333333333333333,
              "#9c179e"
             ],
             [
              0.4444444444444444,
              "#bd3786"
             ],
             [
              0.5555555555555556,
              "#d8576b"
             ],
             [
              0.6666666666666666,
              "#ed7953"
             ],
             [
              0.7777777777777778,
              "#fb9f3a"
             ],
             [
              0.8888888888888888,
              "#fdca26"
             ],
             [
              1,
              "#f0f921"
             ]
            ],
            "type": "heatmap"
           }
          ],
          "heatmapgl": [
           {
            "colorbar": {
             "outlinewidth": 0,
             "ticks": ""
            },
            "colorscale": [
             [
              0,
              "#0d0887"
             ],
             [
              0.1111111111111111,
              "#46039f"
             ],
             [
              0.2222222222222222,
              "#7201a8"
             ],
             [
              0.3333333333333333,
              "#9c179e"
             ],
             [
              0.4444444444444444,
              "#bd3786"
             ],
             [
              0.5555555555555556,
              "#d8576b"
             ],
             [
              0.6666666666666666,
              "#ed7953"
             ],
             [
              0.7777777777777778,
              "#fb9f3a"
             ],
             [
              0.8888888888888888,
              "#fdca26"
             ],
             [
              1,
              "#f0f921"
             ]
            ],
            "type": "heatmapgl"
           }
          ],
          "histogram": [
           {
            "marker": {
             "pattern": {
              "fillmode": "overlay",
              "size": 10,
              "solidity": 0.2
             }
            },
            "type": "histogram"
           }
          ],
          "histogram2d": [
           {
            "colorbar": {
             "outlinewidth": 0,
             "ticks": ""
            },
            "colorscale": [
             [
              0,
              "#0d0887"
             ],
             [
              0.1111111111111111,
              "#46039f"
             ],
             [
              0.2222222222222222,
              "#7201a8"
             ],
             [
              0.3333333333333333,
              "#9c179e"
             ],
             [
              0.4444444444444444,
              "#bd3786"
             ],
             [
              0.5555555555555556,
              "#d8576b"
             ],
             [
              0.6666666666666666,
              "#ed7953"
             ],
             [
              0.7777777777777778,
              "#fb9f3a"
             ],
             [
              0.8888888888888888,
              "#fdca26"
             ],
             [
              1,
              "#f0f921"
             ]
            ],
            "type": "histogram2d"
           }
          ],
          "histogram2dcontour": [
           {
            "colorbar": {
             "outlinewidth": 0,
             "ticks": ""
            },
            "colorscale": [
             [
              0,
              "#0d0887"
             ],
             [
              0.1111111111111111,
              "#46039f"
             ],
             [
              0.2222222222222222,
              "#7201a8"
             ],
             [
              0.3333333333333333,
              "#9c179e"
             ],
             [
              0.4444444444444444,
              "#bd3786"
             ],
             [
              0.5555555555555556,
              "#d8576b"
             ],
             [
              0.6666666666666666,
              "#ed7953"
             ],
             [
              0.7777777777777778,
              "#fb9f3a"
             ],
             [
              0.8888888888888888,
              "#fdca26"
             ],
             [
              1,
              "#f0f921"
             ]
            ],
            "type": "histogram2dcontour"
           }
          ],
          "mesh3d": [
           {
            "colorbar": {
             "outlinewidth": 0,
             "ticks": ""
            },
            "type": "mesh3d"
           }
          ],
          "parcoords": [
           {
            "line": {
             "colorbar": {
              "outlinewidth": 0,
              "ticks": ""
             }
            },
            "type": "parcoords"
           }
          ],
          "pie": [
           {
            "automargin": true,
            "type": "pie"
           }
          ],
          "scatter": [
           {
            "fillpattern": {
             "fillmode": "overlay",
             "size": 10,
             "solidity": 0.2
            },
            "type": "scatter"
           }
          ],
          "scatter3d": [
           {
            "line": {
             "colorbar": {
              "outlinewidth": 0,
              "ticks": ""
             }
            },
            "marker": {
             "colorbar": {
              "outlinewidth": 0,
              "ticks": ""
             }
            },
            "type": "scatter3d"
           }
          ],
          "scattercarpet": [
           {
            "marker": {
             "colorbar": {
              "outlinewidth": 0,
              "ticks": ""
             }
            },
            "type": "scattercarpet"
           }
          ],
          "scattergeo": [
           {
            "marker": {
             "colorbar": {
              "outlinewidth": 0,
              "ticks": ""
             }
            },
            "type": "scattergeo"
           }
          ],
          "scattergl": [
           {
            "marker": {
             "colorbar": {
              "outlinewidth": 0,
              "ticks": ""
             }
            },
            "type": "scattergl"
           }
          ],
          "scattermapbox": [
           {
            "marker": {
             "colorbar": {
              "outlinewidth": 0,
              "ticks": ""
             }
            },
            "type": "scattermapbox"
           }
          ],
          "scatterpolar": [
           {
            "marker": {
             "colorbar": {
              "outlinewidth": 0,
              "ticks": ""
             }
            },
            "type": "scatterpolar"
           }
          ],
          "scatterpolargl": [
           {
            "marker": {
             "colorbar": {
              "outlinewidth": 0,
              "ticks": ""
             }
            },
            "type": "scatterpolargl"
           }
          ],
          "scatterternary": [
           {
            "marker": {
             "colorbar": {
              "outlinewidth": 0,
              "ticks": ""
             }
            },
            "type": "scatterternary"
           }
          ],
          "surface": [
           {
            "colorbar": {
             "outlinewidth": 0,
             "ticks": ""
            },
            "colorscale": [
             [
              0,
              "#0d0887"
             ],
             [
              0.1111111111111111,
              "#46039f"
             ],
             [
              0.2222222222222222,
              "#7201a8"
             ],
             [
              0.3333333333333333,
              "#9c179e"
             ],
             [
              0.4444444444444444,
              "#bd3786"
             ],
             [
              0.5555555555555556,
              "#d8576b"
             ],
             [
              0.6666666666666666,
              "#ed7953"
             ],
             [
              0.7777777777777778,
              "#fb9f3a"
             ],
             [
              0.8888888888888888,
              "#fdca26"
             ],
             [
              1,
              "#f0f921"
             ]
            ],
            "type": "surface"
           }
          ],
          "table": [
           {
            "cells": {
             "fill": {
              "color": "#EBF0F8"
             },
             "line": {
              "color": "white"
             }
            },
            "header": {
             "fill": {
              "color": "#C8D4E3"
             },
             "line": {
              "color": "white"
             }
            },
            "type": "table"
           }
          ]
         },
         "layout": {
          "annotationdefaults": {
           "arrowcolor": "#2a3f5f",
           "arrowhead": 0,
           "arrowwidth": 1
          },
          "autotypenumbers": "strict",
          "coloraxis": {
           "colorbar": {
            "outlinewidth": 0,
            "ticks": ""
           }
          },
          "colorscale": {
           "diverging": [
            [
             0,
             "#8e0152"
            ],
            [
             0.1,
             "#c51b7d"
            ],
            [
             0.2,
             "#de77ae"
            ],
            [
             0.3,
             "#f1b6da"
            ],
            [
             0.4,
             "#fde0ef"
            ],
            [
             0.5,
             "#f7f7f7"
            ],
            [
             0.6,
             "#e6f5d0"
            ],
            [
             0.7,
             "#b8e186"
            ],
            [
             0.8,
             "#7fbc41"
            ],
            [
             0.9,
             "#4d9221"
            ],
            [
             1,
             "#276419"
            ]
           ],
           "sequential": [
            [
             0,
             "#0d0887"
            ],
            [
             0.1111111111111111,
             "#46039f"
            ],
            [
             0.2222222222222222,
             "#7201a8"
            ],
            [
             0.3333333333333333,
             "#9c179e"
            ],
            [
             0.4444444444444444,
             "#bd3786"
            ],
            [
             0.5555555555555556,
             "#d8576b"
            ],
            [
             0.6666666666666666,
             "#ed7953"
            ],
            [
             0.7777777777777778,
             "#fb9f3a"
            ],
            [
             0.8888888888888888,
             "#fdca26"
            ],
            [
             1,
             "#f0f921"
            ]
           ],
           "sequentialminus": [
            [
             0,
             "#0d0887"
            ],
            [
             0.1111111111111111,
             "#46039f"
            ],
            [
             0.2222222222222222,
             "#7201a8"
            ],
            [
             0.3333333333333333,
             "#9c179e"
            ],
            [
             0.4444444444444444,
             "#bd3786"
            ],
            [
             0.5555555555555556,
             "#d8576b"
            ],
            [
             0.6666666666666666,
             "#ed7953"
            ],
            [
             0.7777777777777778,
             "#fb9f3a"
            ],
            [
             0.8888888888888888,
             "#fdca26"
            ],
            [
             1,
             "#f0f921"
            ]
           ]
          },
          "colorway": [
           "#636efa",
           "#EF553B",
           "#00cc96",
           "#ab63fa",
           "#FFA15A",
           "#19d3f3",
           "#FF6692",
           "#B6E880",
           "#FF97FF",
           "#FECB52"
          ],
          "font": {
           "color": "#2a3f5f"
          },
          "geo": {
           "bgcolor": "white",
           "lakecolor": "white",
           "landcolor": "#E5ECF6",
           "showlakes": true,
           "showland": true,
           "subunitcolor": "white"
          },
          "hoverlabel": {
           "align": "left"
          },
          "hovermode": "closest",
          "mapbox": {
           "style": "light"
          },
          "paper_bgcolor": "white",
          "plot_bgcolor": "#E5ECF6",
          "polar": {
           "angularaxis": {
            "gridcolor": "white",
            "linecolor": "white",
            "ticks": ""
           },
           "bgcolor": "#E5ECF6",
           "radialaxis": {
            "gridcolor": "white",
            "linecolor": "white",
            "ticks": ""
           }
          },
          "scene": {
           "xaxis": {
            "backgroundcolor": "#E5ECF6",
            "gridcolor": "white",
            "gridwidth": 2,
            "linecolor": "white",
            "showbackground": true,
            "ticks": "",
            "zerolinecolor": "white"
           },
           "yaxis": {
            "backgroundcolor": "#E5ECF6",
            "gridcolor": "white",
            "gridwidth": 2,
            "linecolor": "white",
            "showbackground": true,
            "ticks": "",
            "zerolinecolor": "white"
           },
           "zaxis": {
            "backgroundcolor": "#E5ECF6",
            "gridcolor": "white",
            "gridwidth": 2,
            "linecolor": "white",
            "showbackground": true,
            "ticks": "",
            "zerolinecolor": "white"
           }
          },
          "shapedefaults": {
           "line": {
            "color": "#2a3f5f"
           }
          },
          "ternary": {
           "aaxis": {
            "gridcolor": "white",
            "linecolor": "white",
            "ticks": ""
           },
           "baxis": {
            "gridcolor": "white",
            "linecolor": "white",
            "ticks": ""
           },
           "bgcolor": "#E5ECF6",
           "caxis": {
            "gridcolor": "white",
            "linecolor": "white",
            "ticks": ""
           }
          },
          "title": {
           "x": 0.05
          },
          "xaxis": {
           "automargin": true,
           "gridcolor": "white",
           "linecolor": "white",
           "ticks": "",
           "title": {
            "standoff": 15
           },
           "zerolinecolor": "white",
           "zerolinewidth": 2
          },
          "yaxis": {
           "automargin": true,
           "gridcolor": "white",
           "linecolor": "white",
           "ticks": "",
           "title": {
            "standoff": 15
           },
           "zerolinecolor": "white",
           "zerolinewidth": 2
          }
         }
        },
        "yaxis": {
         "title": {
          "text": "Expertise Level (out of 5)"
         }
        },
        "yaxis2": {
         "overlaying": "y",
         "side": "right",
         "title": {
          "text": "Years of Experienced"
         }
        }
       }
      }
     },
     "metadata": {},
     "output_type": "display_data"
    }
   ],
   "source": [
    "import plotly.graph_objects as go\n",
    "import plotly\n",
    "fig = go.Figure(\n",
    "    data=[\n",
    "        go.Bar(name='Level', x=skill[skill['Type'] == 'Programming Language']['Name'], \n",
    "               y=skill['Expertise Level (out of 5)'], yaxis='y', offsetgroup=1, marker_color='brown',\n",
    "               customdata=skill[skill['Type'] == 'Programming Language'][['First Use', 'Latest Use', 'Type', 'Associated with']],\n",
    "               hovertemplate='''<b>%{customdata[2]}: </b> %{x} with expertise %{y} out of 5<br><b>First Usage:</b>:%{customdata[0]}<br><b>Association:</b>%{customdata[3]}'''),\n",
    "        go.Bar(name='YoE', x=skill[skill['Type'] == 'Programming Language']['Name'], \n",
    "               y=skill['Years of Experience'], yaxis='y2', offsetgroup=2, marker_color='darkSlateGrey',\n",
    "               customdata=skill[skill['Type'] == 'Programming Language'][['First Use', 'Latest Use', 'Type', 'Associated with']],\n",
    "               hovertemplate='''<b>%{customdata[2]}: </b>%{x} with usage %{y} year(s)<br><b>First Usage:</b>:%{customdata[0]}<br><b>Association:</b>%{customdata[3]}''')\n",
    "    ],\n",
    "    layout={\n",
    "        'yaxis': {'title': 'Expertise Level (out of 5)'},\n",
    "        'yaxis2': {'title': 'Years of Experienced', 'overlaying': 'y', 'side': 'right'}\n",
    "    }\n",
    ")\n",
    "fig.update_layout(barmode='group')\n",
    "fig.show()"
   ]
  },
  {
   "cell_type": "code",
   "execution_count": 277,
   "metadata": {},
   "outputs": [],
   "source": [
    "bar_yoe = go.Bar(name='YoE', x=skill[skill['Type'] == types]['Name'], \n",
    "                y=skill['Years of Experience'], yaxis='y2', offsetgroup=2, marker_color='darkSlateGrey',\n",
    "                customdata=skill[skill['Type'] == types][['First Use', 'Latest Use', 'Type', 'Associated with']],\n",
    "                hovertemplate='''<b>%{customdata[2]}: </b>%{x} with usage %{y} year(s)<br><b>First Usage:</b>:%{customdata[0]}<br><b>Association:</b>%{customdata[3]}''')\n",
    "bar_lev = go.Bar(name='Level', x=skill[skill['Type'] == types]['Name'], \n",
    "                y=skill['Expertise Level (out of 5)'], yaxis='y', offsetgroup=1, marker_color='brown',\n",
    "                customdata=skill[skill['Type'] == types][['First Use', 'Latest Use', 'Type', 'Associated with']],\n",
    "                hovertemplate='''<b>%{customdata[2]}: </b> %{x} with expertise %{y} out of 5<br><b>First Usage:</b>:%{customdata[0]}<br><b>Association:</b>%{customdata[3]}''')"
   ]
  },
  {
   "cell_type": "code",
   "execution_count": 278,
   "metadata": {},
   "outputs": [
    {
     "data": {
      "application/vnd.plotly.v1+json": {
       "config": {
        "plotlyServerURL": "https://plot.ly"
       },
       "data": [
        {
         "customdata": [
          [
           "2018-01-01T00:00:00",
           "2024-06-29T03:09:17.280000",
           "Programming Language",
           "University of Brawijaya, Bogor Agricultural (IPB) University"
          ],
          [
           "2019-01-01T00:00:00",
           "2024-06-29T03:09:17.280000",
           "Programming Language",
           "University of Brawijaya, Bogor Agricultural (IPB) University"
          ],
          [
           "2021-11-01T00:00:00",
           "2022-03-01T00:00:00",
           "Programming Language",
           "Sinarmas Mining"
          ],
          [
           "2021-11-02T00:00:00",
           "2022-03-02T00:00:00",
           "Programming Language",
           "Sinarmas Mining"
          ],
          [
           "2021-11-03T00:00:00",
           "2022-03-03T00:00:00",
           "Programming Language",
           "Sinarmas Mining"
          ]
         ],
         "hovertemplate": "<b>%{customdata[2]}: </b> %{x} with expertise %{y} out of 5<br><b>First Usage:</b>:%{customdata[0]}<br><b>Association:</b>%{customdata[3]}",
         "marker": {
          "color": "brown"
         },
         "name": "Level",
         "offsetgroup": "1",
         "type": "bar",
         "x": [
          "R",
          "Python",
          "Go",
          "JavaScript",
          "ReactJS"
         ],
         "y": [
          5,
          5,
          4,
          4,
          3,
          4,
          4,
          4,
          4,
          5,
          1,
          2,
          1,
          3,
          3,
          4,
          4,
          4,
          4,
          4,
          4,
          4,
          4,
          4,
          4,
          5,
          4,
          4,
          5,
          4,
          5,
          5,
          4
         ],
         "yaxis": "y"
        }
       ],
       "layout": {
        "barmode": "group",
        "template": {
         "data": {
          "bar": [
           {
            "error_x": {
             "color": "#2a3f5f"
            },
            "error_y": {
             "color": "#2a3f5f"
            },
            "marker": {
             "line": {
              "color": "#E5ECF6",
              "width": 0.5
             },
             "pattern": {
              "fillmode": "overlay",
              "size": 10,
              "solidity": 0.2
             }
            },
            "type": "bar"
           }
          ],
          "barpolar": [
           {
            "marker": {
             "line": {
              "color": "#E5ECF6",
              "width": 0.5
             },
             "pattern": {
              "fillmode": "overlay",
              "size": 10,
              "solidity": 0.2
             }
            },
            "type": "barpolar"
           }
          ],
          "carpet": [
           {
            "aaxis": {
             "endlinecolor": "#2a3f5f",
             "gridcolor": "white",
             "linecolor": "white",
             "minorgridcolor": "white",
             "startlinecolor": "#2a3f5f"
            },
            "baxis": {
             "endlinecolor": "#2a3f5f",
             "gridcolor": "white",
             "linecolor": "white",
             "minorgridcolor": "white",
             "startlinecolor": "#2a3f5f"
            },
            "type": "carpet"
           }
          ],
          "choropleth": [
           {
            "colorbar": {
             "outlinewidth": 0,
             "ticks": ""
            },
            "type": "choropleth"
           }
          ],
          "contour": [
           {
            "colorbar": {
             "outlinewidth": 0,
             "ticks": ""
            },
            "colorscale": [
             [
              0,
              "#0d0887"
             ],
             [
              0.1111111111111111,
              "#46039f"
             ],
             [
              0.2222222222222222,
              "#7201a8"
             ],
             [
              0.3333333333333333,
              "#9c179e"
             ],
             [
              0.4444444444444444,
              "#bd3786"
             ],
             [
              0.5555555555555556,
              "#d8576b"
             ],
             [
              0.6666666666666666,
              "#ed7953"
             ],
             [
              0.7777777777777778,
              "#fb9f3a"
             ],
             [
              0.8888888888888888,
              "#fdca26"
             ],
             [
              1,
              "#f0f921"
             ]
            ],
            "type": "contour"
           }
          ],
          "contourcarpet": [
           {
            "colorbar": {
             "outlinewidth": 0,
             "ticks": ""
            },
            "type": "contourcarpet"
           }
          ],
          "heatmap": [
           {
            "colorbar": {
             "outlinewidth": 0,
             "ticks": ""
            },
            "colorscale": [
             [
              0,
              "#0d0887"
             ],
             [
              0.1111111111111111,
              "#46039f"
             ],
             [
              0.2222222222222222,
              "#7201a8"
             ],
             [
              0.3333333333333333,
              "#9c179e"
             ],
             [
              0.4444444444444444,
              "#bd3786"
             ],
             [
              0.5555555555555556,
              "#d8576b"
             ],
             [
              0.6666666666666666,
              "#ed7953"
             ],
             [
              0.7777777777777778,
              "#fb9f3a"
             ],
             [
              0.8888888888888888,
              "#fdca26"
             ],
             [
              1,
              "#f0f921"
             ]
            ],
            "type": "heatmap"
           }
          ],
          "heatmapgl": [
           {
            "colorbar": {
             "outlinewidth": 0,
             "ticks": ""
            },
            "colorscale": [
             [
              0,
              "#0d0887"
             ],
             [
              0.1111111111111111,
              "#46039f"
             ],
             [
              0.2222222222222222,
              "#7201a8"
             ],
             [
              0.3333333333333333,
              "#9c179e"
             ],
             [
              0.4444444444444444,
              "#bd3786"
             ],
             [
              0.5555555555555556,
              "#d8576b"
             ],
             [
              0.6666666666666666,
              "#ed7953"
             ],
             [
              0.7777777777777778,
              "#fb9f3a"
             ],
             [
              0.8888888888888888,
              "#fdca26"
             ],
             [
              1,
              "#f0f921"
             ]
            ],
            "type": "heatmapgl"
           }
          ],
          "histogram": [
           {
            "marker": {
             "pattern": {
              "fillmode": "overlay",
              "size": 10,
              "solidity": 0.2
             }
            },
            "type": "histogram"
           }
          ],
          "histogram2d": [
           {
            "colorbar": {
             "outlinewidth": 0,
             "ticks": ""
            },
            "colorscale": [
             [
              0,
              "#0d0887"
             ],
             [
              0.1111111111111111,
              "#46039f"
             ],
             [
              0.2222222222222222,
              "#7201a8"
             ],
             [
              0.3333333333333333,
              "#9c179e"
             ],
             [
              0.4444444444444444,
              "#bd3786"
             ],
             [
              0.5555555555555556,
              "#d8576b"
             ],
             [
              0.6666666666666666,
              "#ed7953"
             ],
             [
              0.7777777777777778,
              "#fb9f3a"
             ],
             [
              0.8888888888888888,
              "#fdca26"
             ],
             [
              1,
              "#f0f921"
             ]
            ],
            "type": "histogram2d"
           }
          ],
          "histogram2dcontour": [
           {
            "colorbar": {
             "outlinewidth": 0,
             "ticks": ""
            },
            "colorscale": [
             [
              0,
              "#0d0887"
             ],
             [
              0.1111111111111111,
              "#46039f"
             ],
             [
              0.2222222222222222,
              "#7201a8"
             ],
             [
              0.3333333333333333,
              "#9c179e"
             ],
             [
              0.4444444444444444,
              "#bd3786"
             ],
             [
              0.5555555555555556,
              "#d8576b"
             ],
             [
              0.6666666666666666,
              "#ed7953"
             ],
             [
              0.7777777777777778,
              "#fb9f3a"
             ],
             [
              0.8888888888888888,
              "#fdca26"
             ],
             [
              1,
              "#f0f921"
             ]
            ],
            "type": "histogram2dcontour"
           }
          ],
          "mesh3d": [
           {
            "colorbar": {
             "outlinewidth": 0,
             "ticks": ""
            },
            "type": "mesh3d"
           }
          ],
          "parcoords": [
           {
            "line": {
             "colorbar": {
              "outlinewidth": 0,
              "ticks": ""
             }
            },
            "type": "parcoords"
           }
          ],
          "pie": [
           {
            "automargin": true,
            "type": "pie"
           }
          ],
          "scatter": [
           {
            "fillpattern": {
             "fillmode": "overlay",
             "size": 10,
             "solidity": 0.2
            },
            "type": "scatter"
           }
          ],
          "scatter3d": [
           {
            "line": {
             "colorbar": {
              "outlinewidth": 0,
              "ticks": ""
             }
            },
            "marker": {
             "colorbar": {
              "outlinewidth": 0,
              "ticks": ""
             }
            },
            "type": "scatter3d"
           }
          ],
          "scattercarpet": [
           {
            "marker": {
             "colorbar": {
              "outlinewidth": 0,
              "ticks": ""
             }
            },
            "type": "scattercarpet"
           }
          ],
          "scattergeo": [
           {
            "marker": {
             "colorbar": {
              "outlinewidth": 0,
              "ticks": ""
             }
            },
            "type": "scattergeo"
           }
          ],
          "scattergl": [
           {
            "marker": {
             "colorbar": {
              "outlinewidth": 0,
              "ticks": ""
             }
            },
            "type": "scattergl"
           }
          ],
          "scattermapbox": [
           {
            "marker": {
             "colorbar": {
              "outlinewidth": 0,
              "ticks": ""
             }
            },
            "type": "scattermapbox"
           }
          ],
          "scatterpolar": [
           {
            "marker": {
             "colorbar": {
              "outlinewidth": 0,
              "ticks": ""
             }
            },
            "type": "scatterpolar"
           }
          ],
          "scatterpolargl": [
           {
            "marker": {
             "colorbar": {
              "outlinewidth": 0,
              "ticks": ""
             }
            },
            "type": "scatterpolargl"
           }
          ],
          "scatterternary": [
           {
            "marker": {
             "colorbar": {
              "outlinewidth": 0,
              "ticks": ""
             }
            },
            "type": "scatterternary"
           }
          ],
          "surface": [
           {
            "colorbar": {
             "outlinewidth": 0,
             "ticks": ""
            },
            "colorscale": [
             [
              0,
              "#0d0887"
             ],
             [
              0.1111111111111111,
              "#46039f"
             ],
             [
              0.2222222222222222,
              "#7201a8"
             ],
             [
              0.3333333333333333,
              "#9c179e"
             ],
             [
              0.4444444444444444,
              "#bd3786"
             ],
             [
              0.5555555555555556,
              "#d8576b"
             ],
             [
              0.6666666666666666,
              "#ed7953"
             ],
             [
              0.7777777777777778,
              "#fb9f3a"
             ],
             [
              0.8888888888888888,
              "#fdca26"
             ],
             [
              1,
              "#f0f921"
             ]
            ],
            "type": "surface"
           }
          ],
          "table": [
           {
            "cells": {
             "fill": {
              "color": "#EBF0F8"
             },
             "line": {
              "color": "white"
             }
            },
            "header": {
             "fill": {
              "color": "#C8D4E3"
             },
             "line": {
              "color": "white"
             }
            },
            "type": "table"
           }
          ]
         },
         "layout": {
          "annotationdefaults": {
           "arrowcolor": "#2a3f5f",
           "arrowhead": 0,
           "arrowwidth": 1
          },
          "autotypenumbers": "strict",
          "coloraxis": {
           "colorbar": {
            "outlinewidth": 0,
            "ticks": ""
           }
          },
          "colorscale": {
           "diverging": [
            [
             0,
             "#8e0152"
            ],
            [
             0.1,
             "#c51b7d"
            ],
            [
             0.2,
             "#de77ae"
            ],
            [
             0.3,
             "#f1b6da"
            ],
            [
             0.4,
             "#fde0ef"
            ],
            [
             0.5,
             "#f7f7f7"
            ],
            [
             0.6,
             "#e6f5d0"
            ],
            [
             0.7,
             "#b8e186"
            ],
            [
             0.8,
             "#7fbc41"
            ],
            [
             0.9,
             "#4d9221"
            ],
            [
             1,
             "#276419"
            ]
           ],
           "sequential": [
            [
             0,
             "#0d0887"
            ],
            [
             0.1111111111111111,
             "#46039f"
            ],
            [
             0.2222222222222222,
             "#7201a8"
            ],
            [
             0.3333333333333333,
             "#9c179e"
            ],
            [
             0.4444444444444444,
             "#bd3786"
            ],
            [
             0.5555555555555556,
             "#d8576b"
            ],
            [
             0.6666666666666666,
             "#ed7953"
            ],
            [
             0.7777777777777778,
             "#fb9f3a"
            ],
            [
             0.8888888888888888,
             "#fdca26"
            ],
            [
             1,
             "#f0f921"
            ]
           ],
           "sequentialminus": [
            [
             0,
             "#0d0887"
            ],
            [
             0.1111111111111111,
             "#46039f"
            ],
            [
             0.2222222222222222,
             "#7201a8"
            ],
            [
             0.3333333333333333,
             "#9c179e"
            ],
            [
             0.4444444444444444,
             "#bd3786"
            ],
            [
             0.5555555555555556,
             "#d8576b"
            ],
            [
             0.6666666666666666,
             "#ed7953"
            ],
            [
             0.7777777777777778,
             "#fb9f3a"
            ],
            [
             0.8888888888888888,
             "#fdca26"
            ],
            [
             1,
             "#f0f921"
            ]
           ]
          },
          "colorway": [
           "#636efa",
           "#EF553B",
           "#00cc96",
           "#ab63fa",
           "#FFA15A",
           "#19d3f3",
           "#FF6692",
           "#B6E880",
           "#FF97FF",
           "#FECB52"
          ],
          "font": {
           "color": "#2a3f5f"
          },
          "geo": {
           "bgcolor": "white",
           "lakecolor": "white",
           "landcolor": "#E5ECF6",
           "showlakes": true,
           "showland": true,
           "subunitcolor": "white"
          },
          "hoverlabel": {
           "align": "left"
          },
          "hovermode": "closest",
          "mapbox": {
           "style": "light"
          },
          "paper_bgcolor": "white",
          "plot_bgcolor": "#E5ECF6",
          "polar": {
           "angularaxis": {
            "gridcolor": "white",
            "linecolor": "white",
            "ticks": ""
           },
           "bgcolor": "#E5ECF6",
           "radialaxis": {
            "gridcolor": "white",
            "linecolor": "white",
            "ticks": ""
           }
          },
          "scene": {
           "xaxis": {
            "backgroundcolor": "#E5ECF6",
            "gridcolor": "white",
            "gridwidth": 2,
            "linecolor": "white",
            "showbackground": true,
            "ticks": "",
            "zerolinecolor": "white"
           },
           "yaxis": {
            "backgroundcolor": "#E5ECF6",
            "gridcolor": "white",
            "gridwidth": 2,
            "linecolor": "white",
            "showbackground": true,
            "ticks": "",
            "zerolinecolor": "white"
           },
           "zaxis": {
            "backgroundcolor": "#E5ECF6",
            "gridcolor": "white",
            "gridwidth": 2,
            "linecolor": "white",
            "showbackground": true,
            "ticks": "",
            "zerolinecolor": "white"
           }
          },
          "shapedefaults": {
           "line": {
            "color": "#2a3f5f"
           }
          },
          "ternary": {
           "aaxis": {
            "gridcolor": "white",
            "linecolor": "white",
            "ticks": ""
           },
           "baxis": {
            "gridcolor": "white",
            "linecolor": "white",
            "ticks": ""
           },
           "bgcolor": "#E5ECF6",
           "caxis": {
            "gridcolor": "white",
            "linecolor": "white",
            "ticks": ""
           }
          },
          "title": {
           "x": 0.05
          },
          "xaxis": {
           "automargin": true,
           "gridcolor": "white",
           "linecolor": "white",
           "ticks": "",
           "title": {
            "standoff": 15
           },
           "zerolinecolor": "white",
           "zerolinewidth": 2
          },
          "yaxis": {
           "automargin": true,
           "gridcolor": "white",
           "linecolor": "white",
           "ticks": "",
           "title": {
            "standoff": 15
           },
           "zerolinecolor": "white",
           "zerolinewidth": 2
          }
         }
        },
        "yaxis": {
         "title": {
          "text": "Expertise Level (out of 5)"
         }
        }
       }
      }
     },
     "metadata": {},
     "output_type": "display_data"
    }
   ],
   "source": [
    "types = 'Programming Language'\n",
    "fig = go.Figure()\n",
    "fig.add_trace(bar_lev)\n",
    "fig.update_layout({'yaxis': {'title': 'Expertise Level (out of 5)'}}, barmode='group')\n",
    "fig.show()"
   ]
  },
  {
   "cell_type": "code",
   "execution_count": 282,
   "metadata": {},
   "outputs": [
    {
     "data": {
      "application/vnd.plotly.v1+json": {
       "config": {
        "plotlyServerURL": "https://plot.ly"
       },
       "data": [
        {
         "customdata": [
          [
           "2018-01-01T00:00:00",
           "2024-06-29T03:09:17.280000",
           "Programming Language",
           "University of Brawijaya, Bogor Agricultural (IPB) University"
          ],
          [
           "2019-01-01T00:00:00",
           "2024-06-29T03:09:17.280000",
           "Programming Language",
           "University of Brawijaya, Bogor Agricultural (IPB) University"
          ],
          [
           "2021-11-01T00:00:00",
           "2022-03-01T00:00:00",
           "Programming Language",
           "Sinarmas Mining"
          ],
          [
           "2021-11-02T00:00:00",
           "2022-03-02T00:00:00",
           "Programming Language",
           "Sinarmas Mining"
          ],
          [
           "2021-11-03T00:00:00",
           "2022-03-03T00:00:00",
           "Programming Language",
           "Sinarmas Mining"
          ]
         ],
         "hovertemplate": "<b>%{customdata[2]}: </b>%{x} with usage %{y} year(s)<br><b>First Usage:</b>:%{customdata[0]}<br><b>Association:</b>%{customdata[3]}",
         "marker": {
          "color": "darkSlateGrey"
         },
         "name": "YoE",
         "offsetgroup": "2",
         "type": "bar",
         "x": [
          "R",
          "Python",
          "Go",
          "JavaScript",
          "ReactJS"
         ],
         "y": [
          6.416666667,
          5.416666667,
          3.416666667,
          2,
          0.4166666667,
          5,
          0.3333333333,
          0.5833333333,
          1.75,
          9.916666667,
          0.3333333333,
          0.3333333333,
          0.3333333333,
          0.4166666667,
          0.4166666667,
          1.333333333,
          1.333333333,
          1.833333333,
          3.416666667,
          2.583333333,
          0.5,
          1.416666667,
          1.416666667,
          1.916666667,
          1.833333333,
          5.416666667,
          1.416666667,
          2,
          0.4166666667,
          0.3333333333,
          1.666666667,
          6.833333333,
          2
         ],
         "yaxis": "y2"
        }
       ],
       "layout": {
        "barmode": "group",
        "template": {
         "data": {
          "bar": [
           {
            "error_x": {
             "color": "#2a3f5f"
            },
            "error_y": {
             "color": "#2a3f5f"
            },
            "marker": {
             "line": {
              "color": "#E5ECF6",
              "width": 0.5
             },
             "pattern": {
              "fillmode": "overlay",
              "size": 10,
              "solidity": 0.2
             }
            },
            "type": "bar"
           }
          ],
          "barpolar": [
           {
            "marker": {
             "line": {
              "color": "#E5ECF6",
              "width": 0.5
             },
             "pattern": {
              "fillmode": "overlay",
              "size": 10,
              "solidity": 0.2
             }
            },
            "type": "barpolar"
           }
          ],
          "carpet": [
           {
            "aaxis": {
             "endlinecolor": "#2a3f5f",
             "gridcolor": "white",
             "linecolor": "white",
             "minorgridcolor": "white",
             "startlinecolor": "#2a3f5f"
            },
            "baxis": {
             "endlinecolor": "#2a3f5f",
             "gridcolor": "white",
             "linecolor": "white",
             "minorgridcolor": "white",
             "startlinecolor": "#2a3f5f"
            },
            "type": "carpet"
           }
          ],
          "choropleth": [
           {
            "colorbar": {
             "outlinewidth": 0,
             "ticks": ""
            },
            "type": "choropleth"
           }
          ],
          "contour": [
           {
            "colorbar": {
             "outlinewidth": 0,
             "ticks": ""
            },
            "colorscale": [
             [
              0,
              "#0d0887"
             ],
             [
              0.1111111111111111,
              "#46039f"
             ],
             [
              0.2222222222222222,
              "#7201a8"
             ],
             [
              0.3333333333333333,
              "#9c179e"
             ],
             [
              0.4444444444444444,
              "#bd3786"
             ],
             [
              0.5555555555555556,
              "#d8576b"
             ],
             [
              0.6666666666666666,
              "#ed7953"
             ],
             [
              0.7777777777777778,
              "#fb9f3a"
             ],
             [
              0.8888888888888888,
              "#fdca26"
             ],
             [
              1,
              "#f0f921"
             ]
            ],
            "type": "contour"
           }
          ],
          "contourcarpet": [
           {
            "colorbar": {
             "outlinewidth": 0,
             "ticks": ""
            },
            "type": "contourcarpet"
           }
          ],
          "heatmap": [
           {
            "colorbar": {
             "outlinewidth": 0,
             "ticks": ""
            },
            "colorscale": [
             [
              0,
              "#0d0887"
             ],
             [
              0.1111111111111111,
              "#46039f"
             ],
             [
              0.2222222222222222,
              "#7201a8"
             ],
             [
              0.3333333333333333,
              "#9c179e"
             ],
             [
              0.4444444444444444,
              "#bd3786"
             ],
             [
              0.5555555555555556,
              "#d8576b"
             ],
             [
              0.6666666666666666,
              "#ed7953"
             ],
             [
              0.7777777777777778,
              "#fb9f3a"
             ],
             [
              0.8888888888888888,
              "#fdca26"
             ],
             [
              1,
              "#f0f921"
             ]
            ],
            "type": "heatmap"
           }
          ],
          "heatmapgl": [
           {
            "colorbar": {
             "outlinewidth": 0,
             "ticks": ""
            },
            "colorscale": [
             [
              0,
              "#0d0887"
             ],
             [
              0.1111111111111111,
              "#46039f"
             ],
             [
              0.2222222222222222,
              "#7201a8"
             ],
             [
              0.3333333333333333,
              "#9c179e"
             ],
             [
              0.4444444444444444,
              "#bd3786"
             ],
             [
              0.5555555555555556,
              "#d8576b"
             ],
             [
              0.6666666666666666,
              "#ed7953"
             ],
             [
              0.7777777777777778,
              "#fb9f3a"
             ],
             [
              0.8888888888888888,
              "#fdca26"
             ],
             [
              1,
              "#f0f921"
             ]
            ],
            "type": "heatmapgl"
           }
          ],
          "histogram": [
           {
            "marker": {
             "pattern": {
              "fillmode": "overlay",
              "size": 10,
              "solidity": 0.2
             }
            },
            "type": "histogram"
           }
          ],
          "histogram2d": [
           {
            "colorbar": {
             "outlinewidth": 0,
             "ticks": ""
            },
            "colorscale": [
             [
              0,
              "#0d0887"
             ],
             [
              0.1111111111111111,
              "#46039f"
             ],
             [
              0.2222222222222222,
              "#7201a8"
             ],
             [
              0.3333333333333333,
              "#9c179e"
             ],
             [
              0.4444444444444444,
              "#bd3786"
             ],
             [
              0.5555555555555556,
              "#d8576b"
             ],
             [
              0.6666666666666666,
              "#ed7953"
             ],
             [
              0.7777777777777778,
              "#fb9f3a"
             ],
             [
              0.8888888888888888,
              "#fdca26"
             ],
             [
              1,
              "#f0f921"
             ]
            ],
            "type": "histogram2d"
           }
          ],
          "histogram2dcontour": [
           {
            "colorbar": {
             "outlinewidth": 0,
             "ticks": ""
            },
            "colorscale": [
             [
              0,
              "#0d0887"
             ],
             [
              0.1111111111111111,
              "#46039f"
             ],
             [
              0.2222222222222222,
              "#7201a8"
             ],
             [
              0.3333333333333333,
              "#9c179e"
             ],
             [
              0.4444444444444444,
              "#bd3786"
             ],
             [
              0.5555555555555556,
              "#d8576b"
             ],
             [
              0.6666666666666666,
              "#ed7953"
             ],
             [
              0.7777777777777778,
              "#fb9f3a"
             ],
             [
              0.8888888888888888,
              "#fdca26"
             ],
             [
              1,
              "#f0f921"
             ]
            ],
            "type": "histogram2dcontour"
           }
          ],
          "mesh3d": [
           {
            "colorbar": {
             "outlinewidth": 0,
             "ticks": ""
            },
            "type": "mesh3d"
           }
          ],
          "parcoords": [
           {
            "line": {
             "colorbar": {
              "outlinewidth": 0,
              "ticks": ""
             }
            },
            "type": "parcoords"
           }
          ],
          "pie": [
           {
            "automargin": true,
            "type": "pie"
           }
          ],
          "scatter": [
           {
            "fillpattern": {
             "fillmode": "overlay",
             "size": 10,
             "solidity": 0.2
            },
            "type": "scatter"
           }
          ],
          "scatter3d": [
           {
            "line": {
             "colorbar": {
              "outlinewidth": 0,
              "ticks": ""
             }
            },
            "marker": {
             "colorbar": {
              "outlinewidth": 0,
              "ticks": ""
             }
            },
            "type": "scatter3d"
           }
          ],
          "scattercarpet": [
           {
            "marker": {
             "colorbar": {
              "outlinewidth": 0,
              "ticks": ""
             }
            },
            "type": "scattercarpet"
           }
          ],
          "scattergeo": [
           {
            "marker": {
             "colorbar": {
              "outlinewidth": 0,
              "ticks": ""
             }
            },
            "type": "scattergeo"
           }
          ],
          "scattergl": [
           {
            "marker": {
             "colorbar": {
              "outlinewidth": 0,
              "ticks": ""
             }
            },
            "type": "scattergl"
           }
          ],
          "scattermapbox": [
           {
            "marker": {
             "colorbar": {
              "outlinewidth": 0,
              "ticks": ""
             }
            },
            "type": "scattermapbox"
           }
          ],
          "scatterpolar": [
           {
            "marker": {
             "colorbar": {
              "outlinewidth": 0,
              "ticks": ""
             }
            },
            "type": "scatterpolar"
           }
          ],
          "scatterpolargl": [
           {
            "marker": {
             "colorbar": {
              "outlinewidth": 0,
              "ticks": ""
             }
            },
            "type": "scatterpolargl"
           }
          ],
          "scatterternary": [
           {
            "marker": {
             "colorbar": {
              "outlinewidth": 0,
              "ticks": ""
             }
            },
            "type": "scatterternary"
           }
          ],
          "surface": [
           {
            "colorbar": {
             "outlinewidth": 0,
             "ticks": ""
            },
            "colorscale": [
             [
              0,
              "#0d0887"
             ],
             [
              0.1111111111111111,
              "#46039f"
             ],
             [
              0.2222222222222222,
              "#7201a8"
             ],
             [
              0.3333333333333333,
              "#9c179e"
             ],
             [
              0.4444444444444444,
              "#bd3786"
             ],
             [
              0.5555555555555556,
              "#d8576b"
             ],
             [
              0.6666666666666666,
              "#ed7953"
             ],
             [
              0.7777777777777778,
              "#fb9f3a"
             ],
             [
              0.8888888888888888,
              "#fdca26"
             ],
             [
              1,
              "#f0f921"
             ]
            ],
            "type": "surface"
           }
          ],
          "table": [
           {
            "cells": {
             "fill": {
              "color": "#EBF0F8"
             },
             "line": {
              "color": "white"
             }
            },
            "header": {
             "fill": {
              "color": "#C8D4E3"
             },
             "line": {
              "color": "white"
             }
            },
            "type": "table"
           }
          ]
         },
         "layout": {
          "annotationdefaults": {
           "arrowcolor": "#2a3f5f",
           "arrowhead": 0,
           "arrowwidth": 1
          },
          "autotypenumbers": "strict",
          "coloraxis": {
           "colorbar": {
            "outlinewidth": 0,
            "ticks": ""
           }
          },
          "colorscale": {
           "diverging": [
            [
             0,
             "#8e0152"
            ],
            [
             0.1,
             "#c51b7d"
            ],
            [
             0.2,
             "#de77ae"
            ],
            [
             0.3,
             "#f1b6da"
            ],
            [
             0.4,
             "#fde0ef"
            ],
            [
             0.5,
             "#f7f7f7"
            ],
            [
             0.6,
             "#e6f5d0"
            ],
            [
             0.7,
             "#b8e186"
            ],
            [
             0.8,
             "#7fbc41"
            ],
            [
             0.9,
             "#4d9221"
            ],
            [
             1,
             "#276419"
            ]
           ],
           "sequential": [
            [
             0,
             "#0d0887"
            ],
            [
             0.1111111111111111,
             "#46039f"
            ],
            [
             0.2222222222222222,
             "#7201a8"
            ],
            [
             0.3333333333333333,
             "#9c179e"
            ],
            [
             0.4444444444444444,
             "#bd3786"
            ],
            [
             0.5555555555555556,
             "#d8576b"
            ],
            [
             0.6666666666666666,
             "#ed7953"
            ],
            [
             0.7777777777777778,
             "#fb9f3a"
            ],
            [
             0.8888888888888888,
             "#fdca26"
            ],
            [
             1,
             "#f0f921"
            ]
           ],
           "sequentialminus": [
            [
             0,
             "#0d0887"
            ],
            [
             0.1111111111111111,
             "#46039f"
            ],
            [
             0.2222222222222222,
             "#7201a8"
            ],
            [
             0.3333333333333333,
             "#9c179e"
            ],
            [
             0.4444444444444444,
             "#bd3786"
            ],
            [
             0.5555555555555556,
             "#d8576b"
            ],
            [
             0.6666666666666666,
             "#ed7953"
            ],
            [
             0.7777777777777778,
             "#fb9f3a"
            ],
            [
             0.8888888888888888,
             "#fdca26"
            ],
            [
             1,
             "#f0f921"
            ]
           ]
          },
          "colorway": [
           "#636efa",
           "#EF553B",
           "#00cc96",
           "#ab63fa",
           "#FFA15A",
           "#19d3f3",
           "#FF6692",
           "#B6E880",
           "#FF97FF",
           "#FECB52"
          ],
          "font": {
           "color": "#2a3f5f"
          },
          "geo": {
           "bgcolor": "white",
           "lakecolor": "white",
           "landcolor": "#E5ECF6",
           "showlakes": true,
           "showland": true,
           "subunitcolor": "white"
          },
          "hoverlabel": {
           "align": "left"
          },
          "hovermode": "closest",
          "mapbox": {
           "style": "light"
          },
          "paper_bgcolor": "white",
          "plot_bgcolor": "#E5ECF6",
          "polar": {
           "angularaxis": {
            "gridcolor": "white",
            "linecolor": "white",
            "ticks": ""
           },
           "bgcolor": "#E5ECF6",
           "radialaxis": {
            "gridcolor": "white",
            "linecolor": "white",
            "ticks": ""
           }
          },
          "scene": {
           "xaxis": {
            "backgroundcolor": "#E5ECF6",
            "gridcolor": "white",
            "gridwidth": 2,
            "linecolor": "white",
            "showbackground": true,
            "ticks": "",
            "zerolinecolor": "white"
           },
           "yaxis": {
            "backgroundcolor": "#E5ECF6",
            "gridcolor": "white",
            "gridwidth": 2,
            "linecolor": "white",
            "showbackground": true,
            "ticks": "",
            "zerolinecolor": "white"
           },
           "zaxis": {
            "backgroundcolor": "#E5ECF6",
            "gridcolor": "white",
            "gridwidth": 2,
            "linecolor": "white",
            "showbackground": true,
            "ticks": "",
            "zerolinecolor": "white"
           }
          },
          "shapedefaults": {
           "line": {
            "color": "#2a3f5f"
           }
          },
          "ternary": {
           "aaxis": {
            "gridcolor": "white",
            "linecolor": "white",
            "ticks": ""
           },
           "baxis": {
            "gridcolor": "white",
            "linecolor": "white",
            "ticks": ""
           },
           "bgcolor": "#E5ECF6",
           "caxis": {
            "gridcolor": "white",
            "linecolor": "white",
            "ticks": ""
           }
          },
          "title": {
           "x": 0.05
          },
          "xaxis": {
           "automargin": true,
           "gridcolor": "white",
           "linecolor": "white",
           "ticks": "",
           "title": {
            "standoff": 15
           },
           "zerolinecolor": "white",
           "zerolinewidth": 2
          },
          "yaxis": {
           "automargin": true,
           "gridcolor": "white",
           "linecolor": "white",
           "ticks": "",
           "title": {
            "standoff": 15
           },
           "zerolinecolor": "white",
           "zerolinewidth": 2
          }
         }
        },
        "yaxis2": {
         "overlaying": "y",
         "side": "right",
         "title": {
          "text": "Years of Experienced"
         }
        }
       }
      }
     },
     "metadata": {},
     "output_type": "display_data"
    }
   ],
   "source": [
    "fig = go.Figure()\n",
    "fig.add_trace(bar_yoe)\n",
    "fig.update_layout({'yaxis2':{'title': 'Years of Experienced', 'overlaying': 'y', 'side': 'right'}}, barmode='group')\n",
    "fig.show()"
   ]
  },
  {
   "cell_type": "code",
   "execution_count": 283,
   "metadata": {},
   "outputs": [
    {
     "data": {
      "text/html": [
       "<div>\n",
       "<style scoped>\n",
       "    .dataframe tbody tr th:only-of-type {\n",
       "        vertical-align: middle;\n",
       "    }\n",
       "\n",
       "    .dataframe tbody tr th {\n",
       "        vertical-align: top;\n",
       "    }\n",
       "\n",
       "    .dataframe thead th {\n",
       "        text-align: right;\n",
       "    }\n",
       "</style>\n",
       "<table border=\"1\" class=\"dataframe\">\n",
       "  <thead>\n",
       "    <tr style=\"text-align: right;\">\n",
       "      <th></th>\n",
       "      <th>Type</th>\n",
       "      <th>Name</th>\n",
       "      <th>Skill</th>\n",
       "      <th>Tools</th>\n",
       "      <th>Method</th>\n",
       "      <th>Date</th>\n",
       "      <th>Associated with</th>\n",
       "      <th>Link</th>\n",
       "      <th>Status</th>\n",
       "    </tr>\n",
       "  </thead>\n",
       "  <tbody>\n",
       "    <tr>\n",
       "      <th>0</th>\n",
       "      <td>Report</td>\n",
       "      <td>BERT Applications for NLP</td>\n",
       "      <td>Data Cleaning, Data Exploration, Sentiment Ana...</td>\n",
       "      <td>Python, Tensorflow, Transformers, NLTK, Spacy,...</td>\n",
       "      <td>BERT</td>\n",
       "      <td>2024-06-01</td>\n",
       "      <td>Bogor Agricultural (IPB) University</td>\n",
       "      <td>https://colab.research.google.com/drive/1JkvHy...</td>\n",
       "      <td>Individual</td>\n",
       "    </tr>\n",
       "    <tr>\n",
       "      <th>1</th>\n",
       "      <td>Dashboard</td>\n",
       "      <td>Dashboard Making on Inter-Regional Input-Outpu...</td>\n",
       "      <td>Data Visualization, Dashboard Making, Chatbots...</td>\n",
       "      <td>Python, Streamlit, OpenAI, Microsoft Excel, Git</td>\n",
       "      <td>Clustering, Text Analytics, Large Language Mod...</td>\n",
       "      <td>2024-05-01</td>\n",
       "      <td>Bogor Agricultural (IPB) University</td>\n",
       "      <td>https://bit.ly/anovasion-irio, https://github....</td>\n",
       "      <td>Teamwork</td>\n",
       "    </tr>\n",
       "    <tr>\n",
       "      <th>2</th>\n",
       "      <td>Report</td>\n",
       "      <td>Text Summarization for NLP</td>\n",
       "      <td>Text Analysis, Natural Language Processing (NLP)</td>\n",
       "      <td>Python, Spacy, NLTK</td>\n",
       "      <td>TextRank</td>\n",
       "      <td>2024-05-01</td>\n",
       "      <td>Bogor Agricultural (IPB) University</td>\n",
       "      <td>https://drive.google.com/file/d/124W6cPHAv6ZYP...</td>\n",
       "      <td>Individual</td>\n",
       "    </tr>\n",
       "    <tr>\n",
       "      <th>3</th>\n",
       "      <td>Report</td>\n",
       "      <td>Sentiment Analysis Methods</td>\n",
       "      <td>Data Cleaning, Data Exploration, Sentiment Ana...</td>\n",
       "      <td>Python, Tensorflow, Scikit-learn, Transformers...</td>\n",
       "      <td>BERT, Lexicon Based Sentiment Analysis, SMOTE,...</td>\n",
       "      <td>2024-04-01</td>\n",
       "      <td>Bogor Agricultural (IPB) University</td>\n",
       "      <td>https://drive.google.com/file/d/1vTb72CB9afZND...</td>\n",
       "      <td>Individual</td>\n",
       "    </tr>\n",
       "    <tr>\n",
       "      <th>4</th>\n",
       "      <td>Research Paper</td>\n",
       "      <td>Regularization of Machine Learning Models with...</td>\n",
       "      <td>Classification, Machine Learning, Data Simulat...</td>\n",
       "      <td>R</td>\n",
       "      <td>LASSO, Ridge, Elastic Net, Penalized Regressio...</td>\n",
       "      <td>2024-03-01</td>\n",
       "      <td>Bogor Agricultural (IPB) University</td>\n",
       "      <td>https://doi.org/10.19184/mims.v24i1.40360</td>\n",
       "      <td>Individual</td>\n",
       "    </tr>\n",
       "    <tr>\n",
       "      <th>5</th>\n",
       "      <td>Report</td>\n",
       "      <td>Indonesian Language Part of Speech (POS) Taggi...</td>\n",
       "      <td>Data Cleaning, Data Exploration, Part of Speec...</td>\n",
       "      <td>Python, Spacy, NLTK, FlairNLP</td>\n",
       "      <td>Hidden Markov Model, Conditional Random Field</td>\n",
       "      <td>2024-03-01</td>\n",
       "      <td>Bogor Agricultural (IPB) University</td>\n",
       "      <td>https://colab.research.google.com/drive/1M9--6...</td>\n",
       "      <td>Individual</td>\n",
       "    </tr>\n",
       "    <tr>\n",
       "      <th>6</th>\n",
       "      <td>Report</td>\n",
       "      <td>Term Weighting Methods for NLP</td>\n",
       "      <td>Data Cleaning, Data Exploration, Term Weightin...</td>\n",
       "      <td>Python, Plotly, Spacy</td>\n",
       "      <td>TF-IDF, Boolean Term Frequency</td>\n",
       "      <td>2024-02-01</td>\n",
       "      <td>Bogor Agricultural (IPB) University</td>\n",
       "      <td>https://colab.research.google.com/drive/1j3ma4...</td>\n",
       "      <td>Individual</td>\n",
       "    </tr>\n",
       "    <tr>\n",
       "      <th>7</th>\n",
       "      <td>Report</td>\n",
       "      <td>Data Acquisition Methods and Sources</td>\n",
       "      <td>Data Collecting, Data Acquisition, Web Scrapin...</td>\n",
       "      <td>Python</td>\n",
       "      <td>-</td>\n",
       "      <td>2024-01-01</td>\n",
       "      <td>Bogor Agricultural (IPB) University</td>\n",
       "      <td>https://colab.research.google.com/drive/1zn1oa...</td>\n",
       "      <td>Individual</td>\n",
       "    </tr>\n",
       "    <tr>\n",
       "      <th>8</th>\n",
       "      <td>Research Paper</td>\n",
       "      <td>Application of Multi-Clustering in Grouping Re...</td>\n",
       "      <td>Clustering, Machine Learning, Data Exploration...</td>\n",
       "      <td>R</td>\n",
       "      <td>KMeans Clustering, Multi Clustering</td>\n",
       "      <td>2023-12-01</td>\n",
       "      <td>Bogor Agricultural (IPB) University</td>\n",
       "      <td>https://doi.org/10.46306/lb.v4i3.459</td>\n",
       "      <td>Individual</td>\n",
       "    </tr>\n",
       "    <tr>\n",
       "      <th>9</th>\n",
       "      <td>Dashboard</td>\n",
       "      <td>Linear Regression Exploration Dashboard</td>\n",
       "      <td>Regression, Data Visualization, Dashboard Maki...</td>\n",
       "      <td>R, R Shiny, Git</td>\n",
       "      <td>Regression Analysis, Assumption Test</td>\n",
       "      <td>2023-12-01</td>\n",
       "      <td>Bogor Agricultural (IPB) University</td>\n",
       "      <td>http://sta1111.stats.id/07-reglin-exploration/...</td>\n",
       "      <td>Teamwork</td>\n",
       "    </tr>\n",
       "    <tr>\n",
       "      <th>10</th>\n",
       "      <td>Dashboard</td>\n",
       "      <td>Bogor Air Quality Scraping through US AQI</td>\n",
       "      <td>Database Design, Web Scraping, Data Visualizat...</td>\n",
       "      <td>Python, Streamlit, R, Git, Git Actions</td>\n",
       "      <td>-</td>\n",
       "      <td>2023-06-01</td>\n",
       "      <td>Bogor Agricultural (IPB) University</td>\n",
       "      <td>https://nurkhamidah-airqualityscraping-stream-...</td>\n",
       "      <td>Individual</td>\n",
       "    </tr>\n",
       "    <tr>\n",
       "      <th>11</th>\n",
       "      <td>Report</td>\n",
       "      <td>Text Classification using R</td>\n",
       "      <td>Data Exploration, Machine Learning, Predictive...</td>\n",
       "      <td>R</td>\n",
       "      <td>SMOTE, Decision Tree, Classification</td>\n",
       "      <td>2023-04-01</td>\n",
       "      <td>Bogor Agricultural (IPB) University</td>\n",
       "      <td>https://rpubs.com/nurkhamidah/tpc</td>\n",
       "      <td>Individual</td>\n",
       "    </tr>\n",
       "    <tr>\n",
       "      <th>12</th>\n",
       "      <td>Report</td>\n",
       "      <td>Variable Selection and Dimension Reduction usi...</td>\n",
       "      <td>Data Exploration, Data Visualization, Dimensio...</td>\n",
       "      <td>R</td>\n",
       "      <td>Principal Component Analysis (PCA), Correlatio...</td>\n",
       "      <td>2023-04-01</td>\n",
       "      <td>Bogor Agricultural (IPB) University</td>\n",
       "      <td>https://rpubs.com/nurkhamidah/pca</td>\n",
       "      <td>Individual</td>\n",
       "    </tr>\n",
       "    <tr>\n",
       "      <th>13</th>\n",
       "      <td>Report</td>\n",
       "      <td>Credit Card Risk Data Analysis using R</td>\n",
       "      <td>Data Cleaning, Data Exploration, Data Visualiz...</td>\n",
       "      <td>R</td>\n",
       "      <td>Clustering, Principal Component Analysis (PCA)...</td>\n",
       "      <td>2023-04-01</td>\n",
       "      <td>Bogor Agricultural (IPB) University</td>\n",
       "      <td>https://rpubs.com/nurkhamidah/clus</td>\n",
       "      <td>Individual</td>\n",
       "    </tr>\n",
       "    <tr>\n",
       "      <th>14</th>\n",
       "      <td>Dashboard</td>\n",
       "      <td>Simple Database Administration Project and Das...</td>\n",
       "      <td>Database Design, Database Administration, Data...</td>\n",
       "      <td>R, R Shiny, Git, PostgreSQL</td>\n",
       "      <td>-</td>\n",
       "      <td>2023-03-01</td>\n",
       "      <td>Bogor Agricultural (IPB) University</td>\n",
       "      <td>https://nur-khamidah.shinyapps.io/covid_databa...</td>\n",
       "      <td>Teamwork</td>\n",
       "    </tr>\n",
       "    <tr>\n",
       "      <th>15</th>\n",
       "      <td>Report</td>\n",
       "      <td>Prostate Data Analysis using R</td>\n",
       "      <td>Data Preparation, Machine Learning, Statistica...</td>\n",
       "      <td>R</td>\n",
       "      <td>Logistic Regression, Artificial Neural Network...</td>\n",
       "      <td>2022-11-01</td>\n",
       "      <td>Bogor Agricultural (IPB) University</td>\n",
       "      <td>https://rpubs.com/nurkhamidah/prost, https://r...</td>\n",
       "      <td>Individual</td>\n",
       "    </tr>\n",
       "    <tr>\n",
       "      <th>16</th>\n",
       "      <td>Report</td>\n",
       "      <td>Mini Project Stratified Sampling A-Z</td>\n",
       "      <td>Data Simulation, Sampling Method, Data Collect...</td>\n",
       "      <td>R</td>\n",
       "      <td>Stratified Sampling</td>\n",
       "      <td>2022-11-01</td>\n",
       "      <td>Bogor Agricultural (IPB) University</td>\n",
       "      <td>https://rpubs.com/nurkhamidah/stratified</td>\n",
       "      <td>Individual</td>\n",
       "    </tr>\n",
       "    <tr>\n",
       "      <th>17</th>\n",
       "      <td>Report</td>\n",
       "      <td>Analyzing Telecommunication Data</td>\n",
       "      <td>Data Exploration, Machine Learning, Predictive...</td>\n",
       "      <td>R</td>\n",
       "      <td>SMOTE, Classification, Logistic Regression, Ar...</td>\n",
       "      <td>2022-11-01</td>\n",
       "      <td>Bogor Agricultural (IPB) University</td>\n",
       "      <td>https://rpubs.com/nurkhamidah/class, https://r...</td>\n",
       "      <td>Individual</td>\n",
       "    </tr>\n",
       "    <tr>\n",
       "      <th>18</th>\n",
       "      <td>Dashboard</td>\n",
       "      <td>Capstone Project Tetris PROA - Dashboard Making</td>\n",
       "      <td>Data Visualization, Dashboard Making, Data Agg...</td>\n",
       "      <td>Python, Streamlit, Git, CSS</td>\n",
       "      <td>Regression Analysis, Assumption Test</td>\n",
       "      <td>2022-10-01</td>\n",
       "      <td>TETRIS PROA x DQLab Professional Python for Da...</td>\n",
       "      <td>https://nurkhamidah-educationdashb-finale-stre...</td>\n",
       "      <td>Individual</td>\n",
       "    </tr>\n",
       "    <tr>\n",
       "      <th>19</th>\n",
       "      <td>Report</td>\n",
       "      <td>OOP Concepts</td>\n",
       "      <td>Programming</td>\n",
       "      <td>R</td>\n",
       "      <td>-</td>\n",
       "      <td>2022-09-01</td>\n",
       "      <td>Bogor Agricultural (IPB) University</td>\n",
       "      <td>https://rpubs.com/nurkhamidah/945844</td>\n",
       "      <td>Individual</td>\n",
       "    </tr>\n",
       "    <tr>\n",
       "      <th>20</th>\n",
       "      <td>Report</td>\n",
       "      <td>Data Munging &amp; Wrangling</td>\n",
       "      <td>Data Wrangling, Data Preparation, Data Cleaning</td>\n",
       "      <td>R</td>\n",
       "      <td>-</td>\n",
       "      <td>2022-08-01</td>\n",
       "      <td>Bogor Agricultural (IPB) University</td>\n",
       "      <td>https://rpubs.com/nurkhamidah/939532</td>\n",
       "      <td>Individual</td>\n",
       "    </tr>\n",
       "  </tbody>\n",
       "</table>\n",
       "</div>"
      ],
      "text/plain": [
       "              Type                                               Name  \\\n",
       "0           Report                          BERT Applications for NLP   \n",
       "1        Dashboard  Dashboard Making on Inter-Regional Input-Outpu...   \n",
       "2           Report                         Text Summarization for NLP   \n",
       "3           Report                         Sentiment Analysis Methods   \n",
       "4   Research Paper  Regularization of Machine Learning Models with...   \n",
       "5           Report  Indonesian Language Part of Speech (POS) Taggi...   \n",
       "6           Report                     Term Weighting Methods for NLP   \n",
       "7           Report               Data Acquisition Methods and Sources   \n",
       "8   Research Paper  Application of Multi-Clustering in Grouping Re...   \n",
       "9        Dashboard            Linear Regression Exploration Dashboard   \n",
       "10       Dashboard          Bogor Air Quality Scraping through US AQI   \n",
       "11          Report                        Text Classification using R   \n",
       "12          Report  Variable Selection and Dimension Reduction usi...   \n",
       "13          Report             Credit Card Risk Data Analysis using R   \n",
       "14       Dashboard  Simple Database Administration Project and Das...   \n",
       "15          Report                     Prostate Data Analysis using R   \n",
       "16          Report               Mini Project Stratified Sampling A-Z   \n",
       "17          Report                   Analyzing Telecommunication Data   \n",
       "18       Dashboard    Capstone Project Tetris PROA - Dashboard Making   \n",
       "19          Report                                       OOP Concepts   \n",
       "20          Report                           Data Munging & Wrangling   \n",
       "\n",
       "                                                Skill  \\\n",
       "0   Data Cleaning, Data Exploration, Sentiment Ana...   \n",
       "1   Data Visualization, Dashboard Making, Chatbots...   \n",
       "2    Text Analysis, Natural Language Processing (NLP)   \n",
       "3   Data Cleaning, Data Exploration, Sentiment Ana...   \n",
       "4   Classification, Machine Learning, Data Simulat...   \n",
       "5   Data Cleaning, Data Exploration, Part of Speec...   \n",
       "6   Data Cleaning, Data Exploration, Term Weightin...   \n",
       "7   Data Collecting, Data Acquisition, Web Scrapin...   \n",
       "8   Clustering, Machine Learning, Data Exploration...   \n",
       "9   Regression, Data Visualization, Dashboard Maki...   \n",
       "10  Database Design, Web Scraping, Data Visualizat...   \n",
       "11  Data Exploration, Machine Learning, Predictive...   \n",
       "12  Data Exploration, Data Visualization, Dimensio...   \n",
       "13  Data Cleaning, Data Exploration, Data Visualiz...   \n",
       "14  Database Design, Database Administration, Data...   \n",
       "15  Data Preparation, Machine Learning, Statistica...   \n",
       "16  Data Simulation, Sampling Method, Data Collect...   \n",
       "17  Data Exploration, Machine Learning, Predictive...   \n",
       "18  Data Visualization, Dashboard Making, Data Agg...   \n",
       "19                                        Programming   \n",
       "20    Data Wrangling, Data Preparation, Data Cleaning   \n",
       "\n",
       "                                                Tools  \\\n",
       "0   Python, Tensorflow, Transformers, NLTK, Spacy,...   \n",
       "1     Python, Streamlit, OpenAI, Microsoft Excel, Git   \n",
       "2                                 Python, Spacy, NLTK   \n",
       "3   Python, Tensorflow, Scikit-learn, Transformers...   \n",
       "4                                                   R   \n",
       "5                      Python, Spacy, NLTK, FlairNLP    \n",
       "6                               Python, Plotly, Spacy   \n",
       "7                                              Python   \n",
       "8                                                   R   \n",
       "9                                     R, R Shiny, Git   \n",
       "10             Python, Streamlit, R, Git, Git Actions   \n",
       "11                                                  R   \n",
       "12                                                  R   \n",
       "13                                                  R   \n",
       "14                        R, R Shiny, Git, PostgreSQL   \n",
       "15                                                  R   \n",
       "16                                                  R   \n",
       "17                                                  R   \n",
       "18                        Python, Streamlit, Git, CSS   \n",
       "19                                                  R   \n",
       "20                                                  R   \n",
       "\n",
       "                                               Method       Date  \\\n",
       "0                                                BERT 2024-06-01   \n",
       "1   Clustering, Text Analytics, Large Language Mod... 2024-05-01   \n",
       "2                                            TextRank 2024-05-01   \n",
       "3   BERT, Lexicon Based Sentiment Analysis, SMOTE,... 2024-04-01   \n",
       "4   LASSO, Ridge, Elastic Net, Penalized Regressio... 2024-03-01   \n",
       "5       Hidden Markov Model, Conditional Random Field 2024-03-01   \n",
       "6                      TF-IDF, Boolean Term Frequency 2024-02-01   \n",
       "7                                                   - 2024-01-01   \n",
       "8                 KMeans Clustering, Multi Clustering 2023-12-01   \n",
       "9                Regression Analysis, Assumption Test 2023-12-01   \n",
       "10                                                  - 2023-06-01   \n",
       "11               SMOTE, Decision Tree, Classification 2023-04-01   \n",
       "12  Principal Component Analysis (PCA), Correlatio... 2023-04-01   \n",
       "13  Clustering, Principal Component Analysis (PCA)... 2023-04-01   \n",
       "14                                                  - 2023-03-01   \n",
       "15  Logistic Regression, Artificial Neural Network... 2022-11-01   \n",
       "16                                Stratified Sampling 2022-11-01   \n",
       "17  SMOTE, Classification, Logistic Regression, Ar... 2022-11-01   \n",
       "18               Regression Analysis, Assumption Test 2022-10-01   \n",
       "19                                                  - 2022-09-01   \n",
       "20                                                  - 2022-08-01   \n",
       "\n",
       "                                      Associated with  \\\n",
       "0                 Bogor Agricultural (IPB) University   \n",
       "1                 Bogor Agricultural (IPB) University   \n",
       "2                 Bogor Agricultural (IPB) University   \n",
       "3                 Bogor Agricultural (IPB) University   \n",
       "4                 Bogor Agricultural (IPB) University   \n",
       "5                 Bogor Agricultural (IPB) University   \n",
       "6                 Bogor Agricultural (IPB) University   \n",
       "7                 Bogor Agricultural (IPB) University   \n",
       "8                 Bogor Agricultural (IPB) University   \n",
       "9                 Bogor Agricultural (IPB) University   \n",
       "10                Bogor Agricultural (IPB) University   \n",
       "11                Bogor Agricultural (IPB) University   \n",
       "12                Bogor Agricultural (IPB) University   \n",
       "13                Bogor Agricultural (IPB) University   \n",
       "14                Bogor Agricultural (IPB) University   \n",
       "15                Bogor Agricultural (IPB) University   \n",
       "16                Bogor Agricultural (IPB) University   \n",
       "17                Bogor Agricultural (IPB) University   \n",
       "18  TETRIS PROA x DQLab Professional Python for Da...   \n",
       "19                Bogor Agricultural (IPB) University   \n",
       "20                Bogor Agricultural (IPB) University   \n",
       "\n",
       "                                                 Link      Status  \n",
       "0   https://colab.research.google.com/drive/1JkvHy...  Individual  \n",
       "1   https://bit.ly/anovasion-irio, https://github....    Teamwork  \n",
       "2   https://drive.google.com/file/d/124W6cPHAv6ZYP...  Individual  \n",
       "3   https://drive.google.com/file/d/1vTb72CB9afZND...  Individual  \n",
       "4           https://doi.org/10.19184/mims.v24i1.40360  Individual  \n",
       "5   https://colab.research.google.com/drive/1M9--6...  Individual  \n",
       "6   https://colab.research.google.com/drive/1j3ma4...  Individual  \n",
       "7   https://colab.research.google.com/drive/1zn1oa...  Individual  \n",
       "8                https://doi.org/10.46306/lb.v4i3.459  Individual  \n",
       "9   http://sta1111.stats.id/07-reglin-exploration/...    Teamwork  \n",
       "10  https://nurkhamidah-airqualityscraping-stream-...  Individual  \n",
       "11                  https://rpubs.com/nurkhamidah/tpc  Individual  \n",
       "12                  https://rpubs.com/nurkhamidah/pca  Individual  \n",
       "13                 https://rpubs.com/nurkhamidah/clus  Individual  \n",
       "14  https://nur-khamidah.shinyapps.io/covid_databa...    Teamwork  \n",
       "15  https://rpubs.com/nurkhamidah/prost, https://r...  Individual  \n",
       "16           https://rpubs.com/nurkhamidah/stratified  Individual  \n",
       "17  https://rpubs.com/nurkhamidah/class, https://r...  Individual  \n",
       "18  https://nurkhamidah-educationdashb-finale-stre...  Individual  \n",
       "19               https://rpubs.com/nurkhamidah/945844  Individual  \n",
       "20               https://rpubs.com/nurkhamidah/939532  Individual  "
      ]
     },
     "execution_count": 283,
     "metadata": {},
     "output_type": "execute_result"
    }
   ],
   "source": [
    "portfolio"
   ]
  },
  {
   "cell_type": "code",
   "execution_count": 284,
   "metadata": {},
   "outputs": [
    {
     "data": {
      "text/html": [
       "<div>\n",
       "<style scoped>\n",
       "    .dataframe tbody tr th:only-of-type {\n",
       "        vertical-align: middle;\n",
       "    }\n",
       "\n",
       "    .dataframe tbody tr th {\n",
       "        vertical-align: top;\n",
       "    }\n",
       "\n",
       "    .dataframe thead th {\n",
       "        text-align: right;\n",
       "    }\n",
       "</style>\n",
       "<table border=\"1\" class=\"dataframe\">\n",
       "  <thead>\n",
       "    <tr style=\"text-align: right;\">\n",
       "      <th></th>\n",
       "      <th>Name</th>\n",
       "      <th>Organization</th>\n",
       "      <th>Date Issued</th>\n",
       "      <th>ID</th>\n",
       "    </tr>\n",
       "  </thead>\n",
       "  <tbody>\n",
       "    <tr>\n",
       "      <th>0</th>\n",
       "      <td>Professional Academy Program: Digital Talent S...</td>\n",
       "      <td>Ministry of Communication and Informatics Indo...</td>\n",
       "      <td>2021-11-01</td>\n",
       "      <td>091316107150-19/DTS/BLSDM.KOMINFO/12/2021</td>\n",
       "    </tr>\n",
       "    <tr>\n",
       "      <th>1</th>\n",
       "      <td>Classification Analysis Project for Small Busi...</td>\n",
       "      <td>DQLab</td>\n",
       "      <td>2021-11-01</td>\n",
       "      <td>DQLABPRAN2ARRUDH</td>\n",
       "    </tr>\n",
       "    <tr>\n",
       "      <th>2</th>\n",
       "      <td>Project Machine Learning for Retail with R: Pr...</td>\n",
       "      <td>DQLab</td>\n",
       "      <td>2021-11-01</td>\n",
       "      <td>DQLABPRJCTEBNPPC</td>\n",
       "    </tr>\n",
       "    <tr>\n",
       "      <th>3</th>\n",
       "      <td>Project: Data Scientist Assesment using R</td>\n",
       "      <td>DQLab</td>\n",
       "      <td>2021-11-01</td>\n",
       "      <td>DQLABPAWR1QHDWOU</td>\n",
       "    </tr>\n",
       "    <tr>\n",
       "      <th>4</th>\n",
       "      <td>Data Science in Marketing: Customer Segmentation</td>\n",
       "      <td>DQLab</td>\n",
       "      <td>2021-10-01</td>\n",
       "      <td>DQLABMLMKTCJPHFA</td>\n",
       "    </tr>\n",
       "    <tr>\n",
       "      <th>5</th>\n",
       "      <td>Data Visualization in Data Science using R</td>\n",
       "      <td>DQLab</td>\n",
       "      <td>2021-10-01</td>\n",
       "      <td>DQLABDTVISVVQNOE</td>\n",
       "    </tr>\n",
       "    <tr>\n",
       "      <th>6</th>\n",
       "      <td>Introduction to Data Science using Python</td>\n",
       "      <td>DQLab</td>\n",
       "      <td>2021-10-01</td>\n",
       "      <td>DQLABINTP1NNQIIP</td>\n",
       "    </tr>\n",
       "    <tr>\n",
       "      <th>7</th>\n",
       "      <td>Statistics using R for Data Science</td>\n",
       "      <td>DQLab</td>\n",
       "      <td>2021-10-01</td>\n",
       "      <td>DQLABINTS1DRNPNA</td>\n",
       "    </tr>\n",
       "    <tr>\n",
       "      <th>8</th>\n",
       "      <td>Microsoft Office Desktop Application</td>\n",
       "      <td>Trust Training Partners</td>\n",
       "      <td>2021-04-01</td>\n",
       "      <td>21UBC04067349</td>\n",
       "    </tr>\n",
       "  </tbody>\n",
       "</table>\n",
       "</div>"
      ],
      "text/plain": [
       "                                                Name  \\\n",
       "0  Professional Academy Program: Digital Talent S...   \n",
       "1  Classification Analysis Project for Small Busi...   \n",
       "2  Project Machine Learning for Retail with R: Pr...   \n",
       "3          Project: Data Scientist Assesment using R   \n",
       "4   Data Science in Marketing: Customer Segmentation   \n",
       "5         Data Visualization in Data Science using R   \n",
       "6          Introduction to Data Science using Python   \n",
       "7                Statistics using R for Data Science   \n",
       "8               Microsoft Office Desktop Application   \n",
       "\n",
       "                                        Organization Date Issued  \\\n",
       "0  Ministry of Communication and Informatics Indo...  2021-11-01   \n",
       "1                                              DQLab  2021-11-01   \n",
       "2                                              DQLab  2021-11-01   \n",
       "3                                              DQLab  2021-11-01   \n",
       "4                                              DQLab  2021-10-01   \n",
       "5                                              DQLab  2021-10-01   \n",
       "6                                              DQLab  2021-10-01   \n",
       "7                                              DQLab  2021-10-01   \n",
       "8                            Trust Training Partners  2021-04-01   \n",
       "\n",
       "                                          ID  \n",
       "0  091316107150-19/DTS/BLSDM.KOMINFO/12/2021  \n",
       "1                           DQLABPRAN2ARRUDH  \n",
       "2                           DQLABPRJCTEBNPPC  \n",
       "3                           DQLABPAWR1QHDWOU  \n",
       "4                           DQLABMLMKTCJPHFA  \n",
       "5                           DQLABDTVISVVQNOE  \n",
       "6                           DQLABINTP1NNQIIP  \n",
       "7                           DQLABINTS1DRNPNA  \n",
       "8                              21UBC04067349  "
      ]
     },
     "execution_count": 284,
     "metadata": {},
     "output_type": "execute_result"
    }
   ],
   "source": [
    "certification"
   ]
  },
  {
   "cell_type": "code",
   "execution_count": null,
   "metadata": {},
   "outputs": [],
   "source": []
  }
 ],
 "metadata": {
  "kernelspec": {
   "display_name": "Python 3",
   "language": "python",
   "name": "python3"
  },
  "language_info": {
   "codemirror_mode": {
    "name": "ipython",
    "version": 3
   },
   "file_extension": ".py",
   "mimetype": "text/x-python",
   "name": "python",
   "nbconvert_exporter": "python",
   "pygments_lexer": "ipython3",
   "version": "3.10.6"
  }
 },
 "nbformat": 4,
 "nbformat_minor": 2
}
